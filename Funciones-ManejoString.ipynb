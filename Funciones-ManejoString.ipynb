{
 "cells": [
  {
   "cell_type": "markdown",
   "metadata": {},
   "source": [
    "#Manejo de Strings.\n",
    "Medio.\n",
    "1.Escriba un programa en python 3 que solicite un numero indefinido de palabras (Todas las entradas son en minúscula), hasta que se le ingrese la palabra \"fin\". El programa debe guardar todas las palabras en una lista (sin la palabra \"fin\"). Posteriormente el programa debe imprimir la lista entera y en otra linea la palabra de la lista que con tiene mayor cantidad de \"a\".\n",
    "\n",
    "NOTA1: El mensaje al solicitar la entrada debe ser: \"Ingrese una palabra \\n\", tal como aparece entre comillas incluyendo la mayúscula inicial, el espacio y el \"\\n\" después de \"palabra\".\n",
    "\n",
    "NOTA2: El programa debe mostrar como resultado exclusivamente lo indicado, no debe contener letras ni enunciados adicionales que lo acompañen."
   ]
  },
  {
   "cell_type": "code",
   "execution_count": null,
   "metadata": {},
   "outputs": [],
   "source": [
    "palabras=[]\n",
    "diccionario={}\n",
    "while True:\n",
    "    entrada=str(input(\"Ingrese una palabra \\n\"))\n",
    "    if entrada==\"fin\":\n",
    "        break\n",
    "    else:\n",
    "        palabras.append(entrada)\n",
    "for i in palabras:\n",
    "    cantidad=i.count(\"a\")\n",
    "    diccionario[cantidad]=i\n",
    "print(palabras)\n",
    "print(diccionario[max(diccionario)])"
   ]
  },
  {
   "cell_type": "markdown",
   "metadata": {},
   "source": [
    "2.Escriba un programa en python 3 que solicite un numero indefinido de palabras (Todas las entradas son en minúscula), hasta que se le ingrese un numero. El programa debe guardar todas las palabras en una lista. Posteriormente el programa debe imprimir la lista entera y en otra linea la palabra de la lista que con tiene mayor cantidad de \"e\".\n",
    "\n",
    "NOTA1: El mensaje al solicitar la entrada debe ser: \"Ingrese una palabra \\n\", tal como aparece entre comillas incluyendo la mayúscula inicial, el espacio y el \"\\n\" después de \"palabra\".\n",
    "\n",
    "NOTA2: El programa debe mostrar como resultado exclusivamente lo indicado, no debe contener letras ni enunciados adicionales que lo acompañen."
   ]
  },
  {
   "cell_type": "code",
   "execution_count": null,
   "metadata": {},
   "outputs": [],
   "source": [
    "palabras=[]\n",
    "diccionario={}\n",
    "while True:\n",
    "    entrada=str(input(\"Ingrese una palabra \\n\"))\n",
    "    if entrada.isdigit():\n",
    "        break\n",
    "    else:\n",
    "        palabras.append(entrada)\n",
    "for i in palabras:\n",
    "    cantidad=i.count(\"e\")\n",
    "    diccionario[cantidad]=i\n",
    "print(palabras)\n",
    "print(diccionario[max(diccionario)])"
   ]
  },
  {
   "cell_type": "markdown",
   "metadata": {},
   "source": [
    "3.Escriba un programa en python 3 que solicite por consola un texto M, haga una lista con dicho texto e imprima las palabras de la lista que contengan el string \"es\".\n",
    "\n",
    "NOTA1: El mensaje al solicitar la entrada debe ser: \"Ingrese un texto \\n\", tal como aparece entre comillas incluyendo la mayúscula inicial, el espacio y el \"\\n\" después de \"texto\".\n",
    "\n",
    "NOTA2: El programa debe mostrar como resultado exclusivamente lo indicado, no debe contener letras ni enunciados adicionales que lo acompañen."
   ]
  },
  {
   "cell_type": "code",
   "execution_count": null,
   "metadata": {},
   "outputs": [],
   "source": [
    "M=str(input(\"Ingrese un texto \\n\"))\n",
    "lista=M.split()\n",
    "for i in lista:\n",
    "    conteo=i.count(\"es\")\n",
    "    if conteo>0:\n",
    "        print(i)"
   ]
  },
  {
   "cell_type": "markdown",
   "metadata": {},
   "source": [
    "4.Cree un programa en python 3 que solicite por consola una lista M de palabras. De dicha lista obtenga otra lista N que guarde con el primer carácter en mayúscula las palabras de M que tienen más de 4 caracteres. Finalmente imprima la lista N por pantalla.\n",
    "NOTA1: El mensaje al solicitar la entrada debe ser: \"Ingrese una lista \\n\", tal como aparece entre comillas incluyendo la mayúscula inicial, el espacio y el \"\\n\" después de \"lista\".\n",
    "\n",
    "NOTA2: El programa debe mostrar como resultado exclusivamente lo indicado, no debe contener letras ni enunciados adicionales que lo acompañen."
   ]
  },
  {
   "cell_type": "code",
   "execution_count": 1,
   "metadata": {},
   "outputs": [
    {
     "name": "stdout",
     "output_type": "stream",
     "text": [
      "Ingese una lista \n",
      "[\"horoscopo\",\"oe\",\"hola\",\"ololaola\"]\n",
      "['Horoscopo', 'Ololaola']\n"
     ]
    }
   ],
   "source": [
    "M=eval(input(\"Ingrese una lista \\n\"))\n",
    "N=[]\n",
    "for i in M:\n",
    "    if len(i)>4:\n",
    "        N.append(i.capitalize())\n",
    "print(N)"
   ]
  },
  {
   "cell_type": "markdown",
   "metadata": {},
   "source": [
    "#bajo\n",
    "5.Cree un programa en python 3 que solicite por consola un palabra M. Posteriormente reemplace el primer carácter de la palabra por \"s\" y guarde la nueva palabra. Finalmente imprima la nueva palabra en mayúscula y en minúscula.\n",
    "\n",
    "NOTA1: El mensaje al solicitar la entrada debe ser: \"Ingrese una palabra \\n\", tal como aparece entre comillas incluyendo la mayúscula inicial, el espacio y el \"\\n\" después de \"palabra\".\n",
    "\n",
    "NOTA2: El programa debe mostrar como resultado exclusivamente lo indicado, no debe contener letras ni enunciados adicionales que lo acompañen."
   ]
  },
  {
   "cell_type": "code",
   "execution_count": 2,
   "metadata": {},
   "outputs": [
    {
     "name": "stdout",
     "output_type": "stream",
     "text": [
      "Ingese una palabra \n",
      "nazareth\n",
      "SAZARETH\n",
      "sazareth\n"
     ]
    }
   ],
   "source": [
    "M=str(input(\"Ingrese una palabra \\n\"))\n",
    "nueva=M.replace(M[0],\"s\")\n",
    "print(nueva.upper())\n",
    "print(nueva.lower())"
   ]
  },
  {
   "cell_type": "markdown",
   "metadata": {},
   "source": [
    "6.Cree un programa en python 3 que solite dos palabras M y N por consola. Posteriormente intercambie el primer carácter de M por el primer carácter de N, así mismo el primer carácter de N por el primer carácter de M. Repita el proceso anterior para la ultimo carácter de cada palabra. Guarde las dos nuevas palabras e imprimalas por pantalla.\n",
    "\n",
    "NOTA1: El mensaje al solicitar la entrada debe ser: \"Ingrese una palabra \\n\", tal como aparece entre comillas incluyendo la mayúscula inicial, el espacio y el \"\\n\" después de \"palabra\".\n",
    "\n",
    "NOTA2: El programa debe mostrar como resultado exclusivamente lo indicado, no debe contener letras ni enunciados adicionales que lo acompañen."
   ]
  },
  {
   "cell_type": "code",
   "execution_count": 7,
   "metadata": {},
   "outputs": [
    {
     "name": "stdout",
     "output_type": "stream",
     "text": [
      "Ingrese una palabra \n",
      "dora\n",
      "Ingrese una palabra \n",
      "man\n",
      "morn\n",
      "daa\n"
     ]
    }
   ],
   "source": [
    "M=str(input(\"Ingrese una palabra \\n\"))\n",
    "N=str(input(\"Ingrese una palabra \\n\"))\n",
    "newM=M.replace(M[0],N[0])\n",
    "newM=newM.replace(M[len(M)-1],N[len(N)-1])\n",
    "newN=N.replace(N[0],M[0])\n",
    "newN=newN.replace(N[len(N)-1],M[len(M)-1])\n",
    "print(newM)\n",
    "print(newN)"
   ]
  },
  {
   "cell_type": "markdown",
   "metadata": {},
   "source": [
    "7.Juan tiene un serio gusto por la letra \"a\". De una lista M de amigas, escogerá como novia la que tenga más letras \"a\" en su nombre. Cree un programa en python 3 que solicite la lista M por consola e imprima por pantalla el nombre de la proxima novia de Juan. \n",
    "\n",
    "NOTA1: El mensaje al solicitar la entrada debe ser: \"Ingrese una lista \\n\", tal como aparece entre comillas incluyendo la mayúscula inicial, el espacio y el \"\\n\" después de \"lista\".\n",
    "\n",
    "NOTA2: El programa debe mostrar como resultado exclusivamente lo indicado, no debe contener letras ni enunciados adicionales que lo acompañen."
   ]
  },
  {
   "cell_type": "code",
   "execution_count": 2,
   "metadata": {},
   "outputs": [
    {
     "name": "stdout",
     "output_type": "stream",
     "text": [
      "Ingrese una lista \n",
      "[\"Sara\",\"Daniela\",\"Lucianasa\"]\n",
      "Lucianasa\n"
     ]
    }
   ],
   "source": [
    "M=eval(input(\"Ingrese una lista \\n\"))\n",
    "cantidad=[]\n",
    "for i in M:\n",
    "    cantidad.append(i.count(\"a\"))\n",
    "index=cantidad.index(max(cantidad))\n",
    "print(M[index])\n",
    "\n",
    "    "
   ]
  },
  {
   "cell_type": "markdown",
   "metadata": {},
   "source": [
    "#Difícil\n",
    "8.Sara esta probando un nuevo método de lectura rapida que le recomendaron. De un texto, solo se fijara en las palabras que contienen mínimo 2 letras \"a\", guardara dichas palabras en una lista y luego las imprimira por pantalla unas tras otra con el string \" !! \" como separador de cada una de ellas. Cree un programa en python 3 que solicite el texto M por consola y pruebe el método de lectura rapida de Sara.\n",
    "\n",
    "NOTA1: El mensaje al solicitar la entrada debe ser: \"Ingrese un texto \\n\", tal como aparece entre comillas incluyendo la mayúscula inicial, el espacio y el \"\\n\" después de \"texto\".\n",
    "\n",
    "NOTA2: El programa debe mostrar como resultado exclusivamente lo indicado, no debe contener letras ni enunciados adicionales que lo acompañen."
   ]
  },
  {
   "cell_type": "code",
   "execution_count": null,
   "metadata": {},
   "outputs": [],
   "source": [
    "#solución:\n",
    "M=str(input(\"Ingrese un texto \\n\"))\n",
    "lista=[]\n",
    "palabras=M.split()\n",
    "for x in palabras:\n",
    "    if x.count(\"a\")>=2:\n",
    "        lista.append(x)\n",
    "print(\" !! \".join(lista))\n",
    "    "
   ]
  },
  {
   "cell_type": "markdown",
   "metadata": {},
   "source": [
    "9.En una extraña universidad se decidió censurar algunas palabras de los textos. Las palabras a censurar son: \"Guerra\" en cualquier presentación (\"GuErra\",\"GUErra\", \"GUERRA\", etc), \"Sol\" en cualquier presentación (\"SoL\",\"sol\",etc), \"Casa\" en cualquier presentación (\"CASA\", \"CAsa\",\"casa\", etc). Cree un programa en python 3 que solicite un texto M por consola, busque las palabras a censurar y en su lugar ponga \"#!*?\", en caso que de las palabras censuradas sean parte de otra palabra, convierta toda la palabra a mayúscula( ejemplo: \"Solidaridad\" cambiaría por \"#!*?IDARIDAD\"), posteriormente imprima todo el nuevo texto en minúscula excepto las palabras modificadas.\n",
    "\n",
    "NOTA1: El mensaje al solicitar la entrada debe ser: \"Ingrese un texto \\n\", tal como aparece entre comillas incluyendo la mayúscula inicial, el espacio y el \"\\n\" después de \"texto\".\n",
    "\n",
    "NOTA2: El programa debe mostrar como resultado exclusivamente lo indicado, no debe contener letras ni enunciados adicionales que lo acompañen."
   ]
  },
  {
   "cell_type": "code",
   "execution_count": 5,
   "metadata": {},
   "outputs": [
    {
     "name": "stdout",
     "output_type": "stream",
     "text": [
      "Ingrese un texto \n",
      "hola cAsa gUERra sol solidario casanova guerras\n",
      "hola #!*? #!*? #!*? #!*?IDARIO #!*?NOVA #!*?S\n"
     ]
    }
   ],
   "source": [
    "M=str(input(\"Ingrese un texto \\n\"))\n",
    "M=M.lower()\n",
    "palabras=M.split()\n",
    "\n",
    "aux=[]\n",
    "for i in palabras:\n",
    "    if i.find(\"guerra\")!=-1:\n",
    "        newpalabra=i.replace(\"guerra\",\"#!*?\")\n",
    "        aux.append(newpalabra.upper())\n",
    "    elif i.find(\"sol\")!=-1:\n",
    "        newpalabra=i.replace(\"sol\",\"#!*?\")\n",
    "        aux.append(newpalabra.upper())\n",
    "    elif i.find(\"casa\")!=-1:\n",
    "        newpalabra=i.replace(\"casa\",\"#!*?\")\n",
    "        aux.append(newpalabra.upper())\n",
    "    else:\n",
    "        aux.append(i)\n",
    "print(\" \".join(aux))\n",
    "        "
   ]
  },
  {
   "cell_type": "markdown",
   "metadata": {},
   "source": [
    "10.Una maestra quiere diseñar un programa que corrija rapidamente las faltas ortograficas de sus estudiantes en las palabras terminadas en \"ción\" a las cuales no les pongan tilde. Cree un programa en python 3 solicite por consola un texto M, busque las palabras terminadas en \"ción\" ( en cualquier presentación \"Ción\", \"CIÓN\",\"CIÓn\", etc) que NO esten tildadas, les ponga la tilde y ponga en mayuscula toda la palabra no tildada. Finalmente imprima el nuevo texto en minuscula por pantalla, exceptuando las palabras corregidas.\n",
    "\n",
    "NOTA1: El mensaje al solicitar la entrada debe ser: \"Ingrese un texto \\n\", tal como aparece entre comillas incluyendo la mayúscula inicial, el espacio y el \"\\n\" después de \"texto\".\n",
    "\n",
    "NOTA2: El programa debe mostrar como resultado exclusivamente lo indicado, no debe contener letras ni enunciados adicionales que lo acompañen."
   ]
  },
  {
   "cell_type": "code",
   "execution_count": 1,
   "metadata": {},
   "outputs": [
    {
     "name": "stdout",
     "output_type": "stream",
     "text": [
      "Ingrese un texto \n",
      "hola representación mortal del mal cancion señores holaciOn RelaciONnn\n",
      "hola representación mortal del mal CANCIÓN señores HOLACIÓN RELACIÓNNN\n"
     ]
    }
   ],
   "source": [
    "M=str(input(\"Ingrese un texto \\n\"))\n",
    "M=M.lower()\n",
    "palabras=M.split()\n",
    "aux=[]\n",
    "for i in palabras:\n",
    "    if i.find(\"cion\")!=-1:\n",
    "        newpalabra=i.replace(\"cion\",\"ción\")\n",
    "        aux.append(newpalabra.upper())\n",
    "    else:\n",
    "        aux.append(i)\n",
    "print(\" \".join(aux))"
   ]
  },
  {
   "cell_type": "markdown",
   "metadata": {},
   "source": [
    "#condicionales\n",
    "fácil.\n",
    "11.Un vendedor de casas desea comprar un auto que cuesta M pesos con las ganancias de 6 meses de su trabajo. El vendedor tiene una lista N de 6 elementos que corresponden al valor de las ventas por cada mes, el vendedor recibe un 10% de la venta de cada mes. Cree un programa en python 3 que solicite por consola un número entero M (el valor del auto) y la lista N de ventas de 6 meses, calcule si con dichas ganancias puede comprar el auto. En caso de que pueda comprar el auto imprima \"Compra\" por pantalla, en caso contrario imprima \"No compra\" por pantalla.\n",
    "\n",
    "NOTA1: El mensaje al solicitar la entrada debe ser: \"Ingrese un numero entero \\n\", \"Ingrese una lista \\n\", tal como aparece entre comillas incluyendo la mayúscula inicial, el espacio y el \"\\n\" después de \"entero\", \"lista\".\n",
    "\n",
    "NOTA2: El programa debe mostrar como resultado exclusivamente lo indicado, no debe contener letras ni enunciados adicionales que lo acompañen."
   ]
  },
  {
   "cell_type": "code",
   "execution_count": 3,
   "metadata": {},
   "outputs": [
    {
     "name": "stdout",
     "output_type": "stream",
     "text": [
      "Ingrese un numero entero \n",
      "100000\n",
      "Ingrese una lista \n",
      "[2,3,4,5,6,7]\n",
      "No compra\n"
     ]
    }
   ],
   "source": [
    "M=int(input(\"Ingrese un numero entero \\n\"))\n",
    "N=eval(input(\"Ingrese una lista \\n\"))\n",
    "ganancias=0\n",
    "for i in N:\n",
    "    ganancias+=i*(0.1)\n",
    "if ganancias-M>=0:\n",
    "    print(\"Compra\")\n",
    "else:\n",
    "    print(\"No compra\")\n"
   ]
  },
  {
   "cell_type": "markdown",
   "metadata": {},
   "source": [
    "12.El dueño de un restaurante hace un analisis semestral sobre la rentabilidad de su negocio. El dueño dice que se deben tener de ganancias M pesos por semestre y recibe una informe en una lista N de 6 valores correspondientes a la venta de cada mes. De cada una de las ventas de los meses, se debe sacar un 12% que se va para impuestos del estado y $2000 de costos de operación. Cree un programa en python 3 que solicite por consola un numero entero M (ganancia deseada) y una lista N (informe de ventas mensuales), calcule si el restaurante esta cumpliendo los objetivos del dueño o no. En caso de que esté cumpliendo, imprima por pantalla \"Cumple\", en caso contrario imprima por pantalla \"No cumple\".\n",
    "\n",
    "NOTA1: El mensaje al solicitar la entrada debe ser: \"Ingrese un numero entero \\n\", \"Ingrese una lista \\n\", tal como aparece entre comillas incluyendo la mayúscula inicial, el espacio y el \"\\n\" después de \"entero\", \"lista\".\n",
    "\n",
    "NOTA2: El programa debe mostrar como resultado exclusivamente lo indicado, no debe contener letras ni enunciados adicionales que lo acompañen."
   ]
  },
  {
   "cell_type": "code",
   "execution_count": 8,
   "metadata": {},
   "outputs": [
    {
     "name": "stdout",
     "output_type": "stream",
     "text": [
      "Ingrese un numero entero \n",
      "60000\n",
      "Ingrese una lista \n",
      "[10000,10000,10000,10000,10000,10000]\n",
      "40800.0\n",
      "No cumple\n"
     ]
    }
   ],
   "source": [
    "M=int(input(\"Ingrese un numero entero \\n\"))\n",
    "N=eval(input(\"Ingrese una lista \\n\"))\n",
    "ganancias=0\n",
    "for i in N:\n",
    "    gananciames=i-((i*0.12)+2000)\n",
    "    ganancias+=gananciames\n",
    "print(ganancias)\n",
    "if ganancias-M>=0:\n",
    "    print(\"Cumple\")\n",
    "else:\n",
    "    print(\"No cumple\")"
   ]
  },
  {
   "cell_type": "markdown",
   "metadata": {},
   "source": [
    "13.Un viajero esta analizando su proximo viaje a una isla en el caribe. El viajero decidirá si hace el viaje o no según la temperatura promedio de los ultimos 6 meses en la isla. El viajero prefiere que la temperatura sea superior a los M grados centigrados, para el analisis tiene una lista N con 6 valores que representan la temperatura promedio en los ultimos 6 meses. Cree un programa en python 3 que solicite por consola un numero real (temperatura optima del viajero) y una lista N (informe de temperaturas de la isla), Si los meses con la temperatura superior a M grados centigrados son más de 3, el cliente viaja. Si los meses con la temperatura superior a M grados centigrados son menos de 3, el cliente no viaja. En otro caso el cliente espera. Imprima por pantalla \"Viaja\", \"No viaja\", \"Espera\", según el caso.\n",
    "\n",
    "NOTA1: El mensaje al solicitar la entrada debe ser: \"Ingrese un numero \\n\", \"Ingrese una lista \\n\", tal como aparece entre comillas incluyendo la mayúscula inicial, el espacio y el \"\\n\" después de \"numero\", \"lista\".\n",
    "\n",
    "NOTA2: El programa debe mostrar como resultado exclusivamente lo indicado, no debe contener letras ni enunciados adicionales que lo acompañen.\n"
   ]
  },
  {
   "cell_type": "code",
   "execution_count": 4,
   "metadata": {},
   "outputs": [
    {
     "name": "stdout",
     "output_type": "stream",
     "text": [
      "Ingrese un numero \n",
      "25\n",
      "Ingrese una lista \n",
      "[3,4,5,6,7,8]\n",
      "No viaja\n"
     ]
    }
   ],
   "source": [
    "M=float(input(\"Ingrese un numero \\n\"))\n",
    "N=eval(input(\"Ingrese una lista \\n\"))\n",
    "optima=0\n",
    "for i in N:\n",
    "    if i>M:\n",
    "        optima+=1\n",
    "if optima>3:\n",
    "    print(\"Viaja\")\n",
    "elif optima<3:\n",
    "    print(\"No viaja\")\n",
    "else:\n",
    "    print(\"Espera\")"
   ]
  },
  {
   "cell_type": "markdown",
   "metadata": {},
   "source": [
    "14.Un jugador de dado (un solo dado) se fija mucho en las estadisticas para hacer sus apuestas. Adicionalmente, el jugador siempre le apuesta a los números pares (2,4,6). El jugador posee una lista M de 6 elementos que corresponden al número que ha ganado en los ultimos 6 tiros del dado. Cree un programa en python 3 que solicite una lista M por consola, analice los números ganadores y le ayude al jugador a tomar la decisión de apostar o no. Si el numero de pares en la lista es mayor a 3, el jugador apuesta. Si en la lista no hay pares, el jugador abandona el juego. En otro caso el jugador no apuesta. Imprima por pantalla \"Apuesta\", \"No apuesta\", \"Abandona el juego\", según el caso.\n",
    "\n",
    "NOTA1: El mensaje al solicitar la entrada debe ser: \"Ingrese una lista \\n\", tal como aparece entre comillas incluyendo la mayúscula inicial, el espacio y el \"\\n\" después de \"lista\".\n",
    "\n",
    "NOTA2: El programa debe mostrar como resultado exclusivamente lo indicado, no debe contener letras ni enunciados adicionales que lo acompañen.\n"
   ]
  },
  {
   "cell_type": "code",
   "execution_count": 3,
   "metadata": {},
   "outputs": [
    {
     "name": "stdout",
     "output_type": "stream",
     "text": [
      "Ingrese una lista \n",
      "[2,4,6,2,3,5]\n",
      "Apuesta\n"
     ]
    }
   ],
   "source": [
    "M=eval(input(\"Ingrese una lista \\n\"))\n",
    "pares=0\n",
    "for i in M:\n",
    "    if i%2==0:\n",
    "        pares+=1\n",
    "if pares>3:\n",
    "    print(\"Apuesta\")\n",
    "elif pares==0:\n",
    "    print(\"Abandona el juego\")\n",
    "else:\n",
    "    print(\"No apuesta\")"
   ]
  },
  {
   "cell_type": "markdown",
   "metadata": {},
   "source": [
    "difícil.\n",
    "15.Un país lleva un control sobre los impuestos a las ventas de carros. Para eso tiene un diccionario M con 3 claves que corresponden a 5 marcas de carros: \"Chevrolet\", \"Renault\", \"Nissan\" (en cualquier orden), cada clave almacena una lista con 2 posiciones, la primera corresponde al total de autos vendidos y la segunda al total de dinero obtenido por dichas ventas(Sin el cobro de impuesto). A la hora de efectuar el cobro de impuesto, se tiene en cuenta la marca: A Chevrolet se le cobra $2000 por cada carro vendido, a Renault se le cobra $1800 por cada carro vendido, a Nissan se le cobra $1200 por cada carro vendido. Cree un programa en python 3 que solicite el diccionario M de datos por consola, efectue los cobros de impuestos y finalmente imprima 3 listas que contengan el nombre de la marca en primera posición y el total de ganancias de la marca despues del cobro del impuesto en la segunda posición, en la tercera posición contiene un \"Si\" o un \"No\", según si las ganancias totales de la marca son mayores a 50000 o no.\n",
    "\n",
    "NOTA1: El mensaje al solicitar la entrada debe ser: \"Ingrese un diccionario \\n\", tal como aparece entre comillas incluyendo la mayúscula inicial, el espacio y el \"\\n\" después de \"diccionario\".\n",
    "\n",
    "NOTA2: El programa debe mostrar como resultado exclusivamente lo indicado, no debe contener letras ni enunciados adicionales que lo acompañen.\n",
    "\n"
   ]
  },
  {
   "cell_type": "code",
   "execution_count": 2,
   "metadata": {},
   "outputs": [
    {
     "name": "stdout",
     "output_type": "stream",
     "text": [
      "Ingrese un diccionario \n",
      "{\"Chevrolet\":[20,120000],\"Renault\":[10,50000],\"Nissan\":[20,70000]}\n",
      "['Chevrolet', 80000, 'Si']\n",
      "['Renault', 32000, 'No']\n",
      "['Nissan', 46000, 'No']\n"
     ]
    }
   ],
   "source": [
    "M=eval(input(\"Ingrese un diccionario \\n\"))\n",
    "impchevrolet=2000\n",
    "imprenault=1800\n",
    "impnissan=1200\n",
    "for marca in M:\n",
    "    \n",
    "    if marca==\"Chevrolet\":\n",
    "        venta=M[\"Chevrolet\"][1]\n",
    "        unidades=M[\"Chevrolet\"][0]\n",
    "        ganancia=venta-(unidades*impchevrolet)\n",
    "        if ganancia>50000:\n",
    "            validador=\"Si\"\n",
    "        else:\n",
    "            validador=\"No\"\n",
    "        lista=[\"Chevrolet\",ganancia,validador]\n",
    "        print(lista)\n",
    "    elif marca==\"Renault\":\n",
    "        venta=M[\"Renault\"][1]\n",
    "        unidades=M[\"Renault\"][0]\n",
    "        ganancia=venta-(unidades*imprenault)\n",
    "        if ganancia>50000:\n",
    "            validador=\"Si\"\n",
    "        else:\n",
    "            validador=\"No\"\n",
    "        lista=[\"Renault\",ganancia,validador]\n",
    "        print(lista)\n",
    "    elif marca==\"Nissan\":\n",
    "        venta=M[\"Nissan\"][1]\n",
    "        unidades=M[\"Nissan\"][0]\n",
    "        ganancia=venta-(unidades*impnissan)\n",
    "        if ganancia>50000:\n",
    "            validador=\"Si\"\n",
    "        else:\n",
    "            validador=\"No\"\n",
    "        lista=[\"Nissan\",ganancia,validador]\n",
    "        print(lista)\n",
    "\n",
    "\n"
   ]
  },
  {
   "cell_type": "markdown",
   "metadata": {},
   "source": [
    "16.Un jugador de dados (dos dados) tiene un serio gusto por los numeros pares y le gusta llevar la estadistica de sus juegos. El jugador deja de jugar en el momento en que saca un 9. Al jugador le gusta saber cuantos numeros pares y cuantos numeros impares obtuvo en sus juegos. Cree un programa en python 3 que solicite por consola listas de números con dos elementos (El primero corresponde al número del primer dado y el segundo al número del segundo dado) hasta obtener un 9. Adicionalmente el programa debe contar la cantidad de pares e impares que obtubo el jugador. Si la cantidad de pares es mayor que la de impares, imprima por pantalla \"Jugador feliz\". Si la cantidad de pares es menor que la de impares, imprima por pantalla \"Jugador triste\". En caso contrario, imprima \"Jugador decepcionado\". Cuando el jugador saca el número 9, este no cuenta en las estadisticas.\n",
    "NOTA1: El mensaje al solicitar las entradas debe ser: \"Ingrese una lista \\n\", tal como aparece entre comillas incluyendo la mayúscula inicial, el espacio y el \"\\n\" después de \"lista\".\n",
    "\n",
    "NOTA2: El programa debe mostrar como resultado exclusivamente lo indicado, no debe contener letras ni enunciados adicionales que lo acompañen."
   ]
  },
  {
   "cell_type": "code",
   "execution_count": 2,
   "metadata": {},
   "outputs": [
    {
     "name": "stdout",
     "output_type": "stream",
     "text": [
      "Ingrese una lista \n",
      "[3,4]\n",
      "Ingrese una lista \n",
      "[3,5]\n",
      "Ingrese una lista \n",
      "[6,4]\n",
      "Ingrese una lista \n",
      "[2,7]\n",
      "Jugador feliz\n"
     ]
    }
   ],
   "source": [
    "pares=0\n",
    "impares=0\n",
    "while(True):\n",
    "    lista=eval(input(\"Ingrese una lista \\n\"))\n",
    "    if (lista[0]+lista[1])==9:\n",
    "        break\n",
    "    elif (lista[0]+lista[1])%2==0:\n",
    "        pares+=1\n",
    "    else:\n",
    "        impares+=1\n",
    "if pares>impares:\n",
    "    print(\"Jugador feliz\")\n",
    "elif pares<impares:\n",
    "    print(\"Jugador triste\")\n",
    "else:\n",
    "    print(\"Jugador decepcionado\")\n",
    "    \n",
    "    "
   ]
  },
  {
   "cell_type": "markdown",
   "metadata": {},
   "source": [
    "17.Un apostador de futbol revisa las estadisticas de los equipos a los que quiere apostar. Para hacer el analisis, el apostador tiene 2 listas M,N con los ultimos 5 resultados de los equipos que se van a enfrentar. Dichas listas contienen 5 posiciones que pueden ser \"G\" -> Ganador, \"E\"-> empate, \"P\"-> Perdedor, según los resultados de cada equipo en sus ultimos 5 partidos. Cree un programa en python 3 que solicite por consola las dos listas M y N de los resultados de los equipos. Si el primer equipo tiene más victorias que el segundo equipo, el jugador le apostara al primer equipo y el programa debe imprimir por pantalla \"Primer equipo\". Si el segundo equipo tiene más victorias que el primero, el jugador le apostara al segundo equipo y el programa debe imprimir por pantalla \"Segundo equipo\". Si ambos equipos tienen el mismo numero de victorias, el jugador apostara al empate y el programa debe imprimir \"Empate\". Si los dos equipos no tienen victorias, el jugador le apostara al equipo que tenga menos derrotas y deberia imprimir \"Primer equipo\" o \"Segundo equipo\" según el caso, en caso de tener igual numero de derrotas, el programa debe imprimir \"Empate\".\n",
    "NOTA1: El mensaje al solicitar las entradas debe ser: \"Ingrese una lista \\n\", tal como aparece entre comillas incluyendo la mayúscula inicial, el espacio y el \"\\n\" después de \"lista\".\n",
    "\n",
    "NOTA2: El programa debe mostrar como resultado exclusivamente lo indicado, no debe contener letras ni enunciados adicionales que lo acompañen."
   ]
  },
  {
   "cell_type": "code",
   "execution_count": null,
   "metadata": {},
   "outputs": [],
   "source": [
    "M=eval(input(\"Ingrese una lista \\n\"))\n",
    "N=eval(input(\"Ingrese una lista \\n\"))\n",
    "victoriasequipo1=M.count(\"G\")\n",
    "victoriasequipo2=N.count(\"G\")\n",
    "derrotasequipo1=M.count(\"P\")\n",
    "derrotasequipo2=N.count(\"P\")\n",
    "if victoriasequipo1>victoriasequipo2:\n",
    "    print(\"Primer equipo\")\n",
    "elif victoriasequipo1<victoriasequipo2:\n",
    "    print(\"Segundo equipo\")\n",
    "else:\n",
    "    if(victoriasequipo1==0 and victoriasequipo2==0):\n",
    "        if derrotasequipo1<derrotasequipo2:\n",
    "            print(\"Primer equipo\")\n",
    "        elif derrotasequipo1>derrotasequipo2:\n",
    "            print(\"Segundo equipo\")\n",
    "        else:\n",
    "            print(\"Empate\")\n",
    "    else:\n",
    "        print(\"Empate\")\n",
    "        \n"
   ]
  },
  {
   "cell_type": "markdown",
   "metadata": {},
   "source": [
    "medio\n",
    "18.Cree un programa en python 3 que solicite por consola una matriz M, y verifique si dicha matriz es cuadrada. Si la matriz es cuadrada, realice la sumatoria del primer elemento de cada fila, si dicha sumatoria es par, imprima \"Par\", en caso contrario imprima \"Impar\". Si la matriz no es cuadrada, realice la sumatoria del ultimo elemento de cada fila, si dicha sumatoria es par, imprima \"Par\", en caso contraro imprima \"Impar\".\n",
    "\n",
    "NOTA1: El mensaje al solicitar las entradas debe ser: \"Ingrese una matriz \\n\", tal como aparece entre comillas incluyendo la mayúscula inicial, el espacio y el \"\\n\" después de \"matriz\".\n",
    "\n",
    "NOTA2: El programa debe mostrar como resultado exclusivamente lo indicado, no debe contener letras ni enunciados adicionales que lo acompañen."
   ]
  },
  {
   "cell_type": "code",
   "execution_count": 6,
   "metadata": {},
   "outputs": [
    {
     "name": "stdout",
     "output_type": "stream",
     "text": [
      "Ingrese una matriz \n",
      "[[3,4,5],[4,5,6],[8,8,9],[4,5,7]]\n",
      "Impar\n"
     ]
    }
   ],
   "source": [
    "M=eval(input(\"Ingrese una matriz \\n\"))\n",
    "if len(M)==len(M[0]):\n",
    "    sumatoria=0\n",
    "    for i in M:\n",
    "        sumatoria+=i[0]\n",
    "    if sumatoria%2==0:\n",
    "        print(\"Par\")\n",
    "    else:\n",
    "        print(\"Impar\")\n",
    "else:\n",
    "    sumatoria=0\n",
    "    for i in M:\n",
    "        sumatoria+=i[len(i)-1]\n",
    "    if sumatoria%2==0:\n",
    "        print(\"Par\")\n",
    "    else:\n",
    "        print(\"Impar\")\n",
    "\n",
    "        "
   ]
  },
  {
   "cell_type": "markdown",
   "metadata": {},
   "source": [
    "19.Cree un programa en python 3 que solicite por consola un entero M de cualquier tamaño y verifique si es palindromo (Que se escribe igual al derecho y al reves) o no. Si es palindromo, imprima \"Palindromo\", en caso contrario imprima \"No palindromo\".\n",
    "NOTA1: El mensaje al solicitar las entradas debe ser: \"Ingrese un numero entero \\n\", tal como aparece entre comillas incluyendo la mayúscula inicial, el espacio y el \"\\n\" después de \"entero\".\n",
    "\n",
    "NOTA2: El programa debe mostrar como resultado exclusivamente lo indicado, no debe contener letras ni enunciados adicionales que lo acompañen."
   ]
  },
  {
   "cell_type": "code",
   "execution_count": 4,
   "metadata": {},
   "outputs": [
    {
     "name": "stdout",
     "output_type": "stream",
     "text": [
      "Ingrese un numero entero \n",
      " 10\n",
      "No palindromo\n"
     ]
    }
   ],
   "source": [
    "numero=int(input(\"Ingrese un numero entero \\n \"))\n",
    "numero=str(numero)\n",
    "size=len(numero)\n",
    "control=size-1\n",
    "k=0\n",
    "suma=0\n",
    "for i in range(0,size):\n",
    "    if numero[k]==numero[control]:\n",
    "       suma+=1\n",
    "    control-=1\n",
    "    k+=1\n",
    "if suma==len(numero):\n",
    "    print(\"Palindromo\")\n",
    "else: print(\"No palindromo\")\n"
   ]
  },
  {
   "cell_type": "markdown",
   "metadata": {},
   "source": [
    "20.Cree un programa en python 3 que solicite por consola una palabra M de cualquier tamaño y verifique si es capicua (Que se escribe igual al derecho y al reves) o no. Si es capicua, imprima \"Capicua\", en caso contrario imprima \"No capicua\".\n",
    "NOTA1: El mensaje al solicitar las entradas debe ser: \"Ingrese una palabra \\n\", tal como aparece entre comillas incluyendo la mayúscula inicial, el espacio y el \"\\n\" después de \"palabra\".\n",
    "\n",
    "NOTA2: El programa debe mostrar como resultado exclusivamente lo indicado, no debe contener letras ni enunciados adicionales que lo acompañen."
   ]
  },
  {
   "cell_type": "code",
   "execution_count": 2,
   "metadata": {},
   "outputs": [
    {
     "name": "stdout",
     "output_type": "stream",
     "text": [
      "Ingrese una palabra \n",
      " hola\n",
      "No capicua\n"
     ]
    }
   ],
   "source": [
    "palabra=str(input(\"Ingrese una palabra \\n \"))\n",
    "size=len(palabra)\n",
    "control=size-1\n",
    "k=0\n",
    "suma=0\n",
    "for i in range(0,size):\n",
    "    if palabra[k]==palabra[control]:\n",
    "       suma+=1\n",
    "    control-=1\n",
    "    k+=1\n",
    "if suma==len(palabra):\n",
    "    print(\"Capicua\")\n",
    "else: print(\"No capicua\")\n"
   ]
  },
  {
   "cell_type": "markdown",
   "metadata": {},
   "source": [
    "Funciones.\n",
    "Bajo.\n",
    "21.Cree una función en python 3 llamada Promedio, que reciba como parametro una lista con una cantidad desconocida de elementos (Todos númericos), dichos elementos corresponden a las notas de un estudiante. La función debe sacar el promedio del estudiante, si el promedio es por lo menos 3.0, debe imprimir por pantalla \"Aprueba\", en caso contario, imprima por pantalla \"No aprueba\".\n",
    "\n",
    "NOTA1: La función debe llamarse explicitamente como se indica en el enunciado del ejercicio.\n",
    "\n",
    "NOTA2: El programa debe mostrar como resultado exclusivamente lo indicado, no debe contener letras ni enunciados adicionales que lo acompañen."
   ]
  },
  {
   "cell_type": "code",
   "execution_count": 1,
   "metadata": {},
   "outputs": [
    {
     "name": "stdout",
     "output_type": "stream",
     "text": [
      "No aprueba\n"
     ]
    }
   ],
   "source": [
    "def Promedio(lista):\n",
    "    size=len(lista)\n",
    "    promedio=sum(lista)/size\n",
    "    if promedio>=3:\n",
    "        print(\"Aprueba\")\n",
    "    else:\n",
    "        print(\"No aprueba\")\n",
    "Promedio([3,4,5,2,1,0,2])"
   ]
  },
  {
   "cell_type": "markdown",
   "metadata": {},
   "source": [
    "22.Cree una función en python 3 llamada Clima, que reciba como parametro una lista con una cantidad desconocida de elementos (Todos númericos), dichos elementos corresponden a las temperaturas de los ultimos días en alguna ciudad. La función debe calcular la temperatura promedio, si la temperatura promedio es por lo menos 25.6, debe imprimir por pantalla \"Calor\", en caso contario, imprima por pantalla \"Frio\".\n",
    "\n",
    "NOTA1: La función debe llamarse explicitamente como se indica en el enunciado del ejercicio.\n",
    "\n",
    "NOTA2: El programa debe mostrar como resultado exclusivamente lo indicado, no debe contener letras ni enunciados adicionales que lo acompañen."
   ]
  },
  {
   "cell_type": "code",
   "execution_count": 2,
   "metadata": {},
   "outputs": [
    {
     "name": "stdout",
     "output_type": "stream",
     "text": [
      "Frio\n"
     ]
    }
   ],
   "source": [
    "def Clima(lista):\n",
    "    size=len(lista)\n",
    "    promedio=sum(lista)/size\n",
    "    if promedio>=25.6:\n",
    "        print(\"Calor\")\n",
    "    else:\n",
    "        print(\"Frio\")\n",
    "Clima([3,4,5,2,1,0,2])"
   ]
  },
  {
   "cell_type": "markdown",
   "metadata": {},
   "source": [
    "Medio\n",
    "23.Cree una funcion en python 3 llamada Calculadora, que reciba como parametro una lista compuesta por 3 elementos. Los dos primeros elementos de la lista corresponden a números enteros y el tercer elemento es un operador (*,/,+,-), la función debe realizar la operación que indique el tercer elemento, entre el primer y segundo elemento. Ejemplo: [3,4,\"+\"] significa 3+4. Finalmente debe imprimir el resultado de dicha operación. En caso de que la operación sea una división, el resultado debe aproximarse a 1 cifra decimal usando la función round().\n",
    "\n",
    "NOTA1: La función debe llamarse explicitamente como se indica en el enunciado del ejercicio.\n",
    "\n",
    "NOTA2: El programa debe mostrar como resultado exclusivamente lo indicado, no debe contener letras ni enunciados adicionales que lo acompañen."
   ]
  },
  {
   "cell_type": "code",
   "execution_count": 5,
   "metadata": {},
   "outputs": [
    {
     "name": "stdout",
     "output_type": "stream",
     "text": [
      "-1\n"
     ]
    }
   ],
   "source": [
    "def Calculadora(lista):\n",
    "    if lista[2]==\"+\":\n",
    "        print(lista[0]+lista[1])\n",
    "    if lista[2]==\"-\":\n",
    "        print(lista[0]-lista[1])\n",
    "    if lista[2]==\"*\":\n",
    "        print(lista[0]*lista[1])\n",
    "    if lista[2]==\"/\":\n",
    "        print(round(lista[0]/lista[1],1))\n",
    "Calculadora([2,3,\"-\"])"
   ]
  },
  {
   "cell_type": "markdown",
   "metadata": {},
   "source": [
    "dificil\n",
    "24.El dueño de una empresa quiere calcular las ganancias totales de ventas durante un mes. Para esto, el dueño cuenta con una matriz donde sus filas representan semanas del mes, dichas filas contienen las ventas de cada día de esas semanas que la empresa trabajó. Cree una funcion en python 3 llamada Ventas que reciba como parametro una matriz con las ventas de la empresa, realice la sumatoria total de las ventas y si el total de ventas es mayor a 100000, imprima por pantalla la lista de ventas de la primera semana, en caso contrario imprima por pantalla la lista de ventas de la ultima semana.\n",
    "NOTA1: La función debe llamarse explicitamente como se indica en el enunciado del ejercicio.\n",
    "\n",
    "NOTA2: El programa debe mostrar como resultado exclusivamente lo indicado, no debe contener letras ni enunciados adicionales que lo acompañen."
   ]
  },
  {
   "cell_type": "code",
   "execution_count": 11,
   "metadata": {},
   "outputs": [
    {
     "name": "stdout",
     "output_type": "stream",
     "text": [
      "[600, 700, 2000, 5000]\n"
     ]
    }
   ],
   "source": [
    "def Ventas(matriz):\n",
    "    sumatoria=0\n",
    "    for i in matriz:\n",
    "        sumatoria+=sum(i)\n",
    "    if sumatoria>100000:\n",
    "        print(matriz[0])\n",
    "    else:\n",
    "        print(matriz[len(matriz)-1])\n",
    "Ventas([[20000,3000,25000],[20000,15000],[600,700,2000,5000]])"
   ]
  },
  {
   "cell_type": "markdown",
   "metadata": {},
   "source": [
    "25.Un estadista quiere conocer los resultados de un equipo de futbol durante una temporada. Para esto tiene una lista con los resultados obtenidos por el equipo en la temporada \"G\"-> Ganador, \"P\"-> perdedor, \"E\"->Empate. ejemplo: [\"G\",\"E\",\"P\"]. El estadista debe obtener la cantidad de puntos que hizo el equipo en la temporada, considerando que por partido ganado recibe 3 puntos y por partido empatado recibe 1 punto. Finalmente, si un equipo hace menos de 12 puntos en una temporada, desciende, en caso contrario permanece. Cree una función en python 3 llamada Resultados, que reciba como parametro una lista con los resultados de la temporada de un equipo. La función debe calcular los resultados y finalmente imprimir una lista compuesta por la cantidad de puntos que hizo el equipo y en segunda posición debe contener un texto \"Desciende\" o \"Permanece\" según el caso.\n",
    "NOTA1: La función debe llamarse explicitamente como se indica en el enunciado del ejercicio.\n",
    "\n",
    "NOTA2: El programa debe mostrar como resultado exclusivamente lo indicado, no debe contener letras ni enunciados adicionales que lo acompañen."
   ]
  },
  {
   "cell_type": "code",
   "execution_count": 3,
   "metadata": {},
   "outputs": [
    {
     "name": "stdout",
     "output_type": "stream",
     "text": [
      "[7, 'Desciende']\n"
     ]
    }
   ],
   "source": [
    "def Resultados(lista):\n",
    "    victorias=lista.count(\"G\")\n",
    "    empates=lista.count(\"E\")\n",
    "    puntos=(victorias*3)+empates\n",
    "    resultado=\"\"\n",
    "    if puntos<12:\n",
    "        resultado=\"Desciende\"\n",
    "    else:\n",
    "        resultado=\"Permanece\"\n",
    "    print([puntos,resultado])\n",
    "Resultados([\"P\",\"P\",\"G\",\"G\",\"E\",\"P\"])"
   ]
  },
  {
   "cell_type": "code",
   "execution_count": null,
   "metadata": {},
   "outputs": [],
   "source": []
  }
 ],
 "metadata": {
  "kernelspec": {
   "display_name": "Python 3",
   "language": "python",
   "name": "python3"
  },
  "language_info": {
   "codemirror_mode": {
    "name": "ipython",
    "version": 3
   },
   "file_extension": ".py",
   "mimetype": "text/x-python",
   "name": "python",
   "nbconvert_exporter": "python",
   "pygments_lexer": "ipython3",
   "version": "3.6.6"
  }
 },
 "nbformat": 4,
 "nbformat_minor": 2
}
