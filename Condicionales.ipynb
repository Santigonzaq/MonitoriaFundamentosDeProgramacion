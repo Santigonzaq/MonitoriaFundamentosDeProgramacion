{
 "cells": [
  {
   "cell_type": "markdown",
   "metadata": {},
   "source": [
    "1.Escriba un programa en python 3 que solicite por consola dos números enteros N y M, luego utilice los números ingresados en el siguiente ejercicio:\n",
    "\n",
    "La edad de Juan está representada por el número N, la edad de Marcos está representada por el número M. Si la edad de Juan es el doble de la edad de Marcos, el programa debe imprimir “Es el doble”. Si la edad de Juan es el triple de la edad de Marcos, el programa debe imprimir “Es el triple”. Si ambas edades son iguales, el programa debe imprimir “Son iguales”. En cualquier otro caso, el programa debe imprimir “Ninguna de las anteriores” y el valor absoluto de la diferencia de las edades.\n",
    "\n",
    "NOTA1: El mensaje al solicitar la entrada debe ser: \"Ingrese un numero entero \\n\", tal como aparece entre comillas incluyendo la mayúscula inicial, el espacio y el \"\\n\" después de \"entero\".\n",
    "\n",
    "NOTA2: El programa debe mostrar como resultado exclusivamente el texto o número indicado, no debe contener letras ni enunciados adicionales que lo acompañen."
   ]
  },
  {
   "cell_type": "code",
   "execution_count": null,
   "metadata": {},
   "outputs": [],
   "source": [
    "N=int(input(\"Ingrese un numero entero \\n\")) #edad de Juan\n",
    "M=int(input(\"Ingrese un numero entero \\n\")) #edad de Marcos\n",
    "if N==2*M:\n",
    "    print(\"Es el doble\")\n",
    "elif N==3*M:\n",
    "    print(\"Es el triple\")\n",
    "elif N==M:\n",
    "    print(\"Son iguales\")\n",
    "else:\n",
    "    print(\"Ninguna de las anteriores\")\n",
    "    print(abs(N-M))"
   ]
  },
  {
   "cell_type": "markdown",
   "metadata": {},
   "source": [
    "2.Escriba un programa en python 3 que solicite por consola tres números enteros N, M y L, luego utilice los números ingresados en el siguiente ejercicio:\n",
    "Si la suma de N y M es un múltiplo de L, el programa debe imprimir el cuadrado de la suma de N y M. En caso contrario, imprima la suma de los cuadrados de los tres números.\n",
    "\n",
    "NOTA1: El mensaje al solicitar la entrada debe ser: \"Ingrese un numero entero \\n\", tal como aparece entre comillas incluyendo la mayúscula inicial, el espacio y el \"\\n\" después de \"entero\".\n",
    "\n",
    "NOTA2: El programa debe mostrar como resultado exclusivamente el número indicado, no debe contener letras ni enunciados adicionales que lo acompañen.\n"
   ]
  },
  {
   "cell_type": "code",
   "execution_count": null,
   "metadata": {},
   "outputs": [],
   "source": [
    "simple-medio\n",
    "N=int(input(\"Ingrese un numero entero \\n\")) \n",
    "M=int(input(\"Ingrese un numero entero \\n\")) \n",
    "L=int(input(\"Ingrese un numero entero \\n\"))\n",
    "if((N+M)%L==0):\n",
    "    \n",
    "    print((N+M)**2)\n",
    "else:\n",
    "    \n",
    "    suma=(N**2)+(M**2)+(L**2)\n",
    "    print(suma)\n"
   ]
  },
  {
   "cell_type": "markdown",
   "metadata": {},
   "source": [
    "simple-medio.\n",
    "3.Escriba un programa en python 3 que solicite por consola dos números enteros N y M, luego utilice los números ingresados en el siguiente ejercicio:\n",
    "\n",
    "Un vendedor de camisas quiere saber cuánto dinero obtendrá si vende N camisas a un precio de M pesos por unidad. El vendedor tiene una regla, si el dinero obtenido corresponde a un número par, dona a una fundación un total de $50 por cada camisa vendida. Si el dinero obtenido corresponde a un número impar, dona a una fundación un total de $25 por cada camisa vendida. Muestre por pantalla con cuánto dinero queda en total el vendedor en cada caso.\n",
    "\n",
    "NOTA1: El mensaje al solicitar la entrada debe ser: \"Ingrese un numero entero \\n\", tal como aparece entre comillas incluyendo la mayúscula inicial, el espacio y el \"\\n\" después de \"entero\".\n",
    "\n",
    "NOTA2: El programa debe mostrar como resultado exclusivamente el número indicado, no debe contener letras ni enunciados adicionales que lo acompañen."
   ]
  },
  {
   "cell_type": "code",
   "execution_count": null,
   "metadata": {},
   "outputs": [],
   "source": [
    "N=int(input(\"Ingrese un numero entero \\n\")) \n",
    "M=int(input(\"Ingrese un numero entero \\n\"))\n",
    "gananciaprevia=N*M\n",
    "if(gananciaprevia%2==0):\n",
    "    descuento=50*N\n",
    "    total=gananciaprevia-descuento\n",
    "    print(total)\n",
    "else:\n",
    "    descuento=25*N\n",
    "    total=gananciaprevia-descuento\n",
    "    print(total)"
   ]
  },
  {
   "cell_type": "markdown",
   "metadata": {},
   "source": [
    "simple-dificil.\n",
    "4.Escriba un programa en python 3 que solicite por consola un número entero  N, luego utilice el número ingresado en el siguiente ejercicio:\n",
    "N es el total de kilómetros que debe recorrer un carro para ir desde un lugar A a un lugar B. El costo de la gasolina por kilómetro es de $3340 pesos, adicionalmente cada 300 kilometros (exactamente) gasta $2000 en comida. El conductor dispone de $2300000 pesos para cubrir los gastos de viaje. Verifique si con el dinero que posee el conductor puede cubrir todos los gastos del viaje. En caso de que pueda, imprima por pantalla la cantidad de dinero que le sobra, en caso contrario, imprima por pantalla la cantidad de dinero que deberia tener para poder viajar.\n",
    "NOTA1: El mensaje al solicitar la entrada debe ser: \"Ingrese un numero entero \\n\", tal como aparece entre comillas incluyendo la mayúscula inicial, el espacio y el \"\\n\" .\n",
    "\n",
    "NOTA2: El programa debe mostrar como resultado exclusivamente el número indicado, no debe contener letras ni enunciados adicionales que lo acompañen.\n",
    "\n",
    "NOTA3: Importar la libreria math para usar la función piso, retorna el valor entero más cercano hacia abajo. ejemplo math.floor(3.3) es igual a 3.\n"
   ]
  },
  {
   "cell_type": "code",
   "execution_count": null,
   "metadata": {},
   "outputs": [],
   "source": [
    "import math\n",
    "N=int(input(\"Ingrese un numero entero \\n\")) \n",
    "gastogasolina=3340*N\n",
    "comidas=math.floor(N/300)\n",
    "gastocomidas=2000*comidas\n",
    "diferencia=2300000-gastogasolina-gastocomidas\n",
    "if(diferencia>=0):\n",
    "    print(diferencia)\n",
    "else:\n",
    "    print(gastocomidas+gastogasolina)"
   ]
  },
  {
   "cell_type": "markdown",
   "metadata": {},
   "source": [
    "5.Escriba un programa en python 3 que solicite por consola dos números enteros N y M, luego utilice los números ingresados en el siguiente ejercicio:\n",
    "N representa el precio de la libra de café Colombiano, M representa el precio de la libra de café importado. Un comprador tiene $700000 pesos para comprar café. El comprador solo comprará café Colombiano si la cantidad de libras que puede comprar con el dinero supera por lo menos en 10 unidades la cantidad de libras que puede comprar del importado. En caso contrario comprará café importado. Imprima por pantalla la cantidad de libras que va a comprar, según sea el caso.(Tenga en cuenta que solo se pueden comprar cantidades enteras de libras).\n",
    "\n",
    "NOTA1: El mensaje al solicitar la entrada debe ser: \"Ingrese un numero entero \\n\", tal como aparece entre comillas incluyendo la mayúscula inicial, el espacio y el \"\\n\" después de \"entero\".\n",
    "\n",
    "NOTA2: El programa debe mostrar como resultado exclusivamente el número indicado, no debe contener letras ni enunciados adicionales que lo acompañen.\n",
    "\n",
    "NOTA3: Importar la libreria math para usar la función piso, retorna el valor entero más cercano hacia abajo. ejemplo math.floor(3.3) es igual a 3."
   ]
  },
  {
   "cell_type": "code",
   "execution_count": null,
   "metadata": {},
   "outputs": [],
   "source": [
    "import math\n",
    "N=int(input(\"Ingrese un numero entero \\n\")) ##Colombiano\n",
    "M=int(input(\"Ingrese un numero entero \\n\"))  ##Importado\n",
    "cantidadcolombiano=math.floor(700000/N)\n",
    "cantidadimportado=math.floor(700000/M)\n",
    "if(cantidadcolombiano-cantidadimportado>=10):\n",
    "    \n",
    "    print(cantidadcolombiano)\n",
    "else:\n",
    "    print(cantidadimportado)\n"
   ]
  },
  {
   "cell_type": "markdown",
   "metadata": {},
   "source": [
    "Anidados- díficil.\n",
    "6.Escriba un programa en python 3 que solicite por consola un número entero  N y un texto M, luego utilice el número y el texto ingresado en el siguiente ejercicio:\n",
    "N corresponde a la hora a la que se levanta una persona (formato 12 horas) en cualquier día (Solo horas cerradas: 1,2,3,4....12), M corresponde a un texto que indica si es am o pm. Teniedo en cuenta que temprano es de 5 am-12 pm (incluendo solo el extremo izquierdo), tarde es de 12 pm-6 pm(incluyendo solo el extremo izquierdo) y noche es de 6 pm - 11 pm (incluyendo solo el extremo izquierdo). Si N es diferente de \"am\" o \"pm\" es un error. Imprima \"Temprano\", \"Tarde\", \"Noche\" o \"Error\" según sea el caso.\n",
    "NOTA1: El mensaje al solicitar la entrada debe ser: \"Ingrese un numero entero \\n\", \"Ingrese un texto \\n\" tal como aparece entre comillas incluyendo la mayúscula inicial, el espacio y el \"\\n\" .\n",
    "\n",
    "NOTA2: El programa debe mostrar como resultado exclusivamente el número o texto indicado, no debe contener letras ni enunciados adicionales que lo acompañen."
   ]
  },
  {
   "cell_type": "code",
   "execution_count": null,
   "metadata": {},
   "outputs": [],
   "source": [
    "N=int(input(\"Ingrese un numero entero \\n\")) \n",
    "M=str(input(\"Ingrese un texto \\n\"))\n",
    "if M==\"am\":\n",
    "    if(N>=5 and N<12):\n",
    "        print(\"Temprano\")\n",
    "if M==\"pm\":\n",
    "    if(N==12 or N<6):\n",
    "        print(\"Tarde\")\n",
    "    if(N>=6 and N<11):\n",
    "        print(\"Noche\")\n",
    "if(M!=\"am\" and M!=\"pm\"):\n",
    "    print(\"Error\")\n",
    "    \n",
    "    "
   ]
  },
  {
   "cell_type": "markdown",
   "metadata": {},
   "source": [
    "simple-facil \n",
    "7.Escriba un programa en python 3 que solicite por consola un número entero N y un texto M, luego utilice el número y el texto ingresado en el siguiente ejercicio: N corresponde a un numero entero y M a una palabra cualquiera. Imprima \"Verdadero\" si N corresponde a la cantidad de letras de la palabra M. De lo contrario, imprima \"Falso\".\n",
    "\n",
    "NOTA1: El mensaje al solicitar la entrada debe ser: \"Ingrese un numero entero \\n\", \"Ingrese un texto \\n\" tal como aparece entre comillas incluyendo la mayúscula inicial, el espacio y el \"\\n\" .\n",
    "\n",
    "NOTA2: El programa debe mostrar como resultado exclusivamente el número o texto indicado, no debe contener letras ni enunciados adicionales que lo acompañen."
   ]
  },
  {
   "cell_type": "code",
   "execution_count": null,
   "metadata": {},
   "outputs": [],
   "source": [
    "N=int(input(\"Ingrese un numero entero \\n\")) \n",
    "M=str(input(\"Ingrese un texto \\n\"))\n",
    "if N==len(M):\n",
    "      print(\"Verdadero\")\n",
    "else:\n",
    "      print(\"Falso\")"
   ]
  },
  {
   "cell_type": "markdown",
   "metadata": {},
   "source": [
    "simple medio \n",
    "8.Escriba un programa en python 3 que solicite por consola un texo  N, luego utilice el texto ingresado en el siguiente ejercicio:\n",
    "Usualmente, la palabra N tiene más de dos letras \"a\". Se desea saber si dicho número de \"a\" que contiene la palabra es por lo menos 2,igual a 2 o menor que 2. Si el numero de \"a\" en la palabra es mayor que dos, imprima \"Mayor\". Si es exactamente 2, imprima \"Dos\". Si es menor que 2, imprima \"Menor\".\n",
    "\n",
    "NOTA1: El mensaje al solicitar la entrada debe ser: \"Ingrese un texto \\n\" tal como aparece entre comillas incluyendo la mayúscula inicial, el espacio y el \"\\n\" .\n",
    "\n",
    "NOTA2: El programa debe mostrar como resultado exclusivamente el número o texto indicado, no debe contener letras ni enunciados adicionales que lo acompañen."
   ]
  },
  {
   "cell_type": "code",
   "execution_count": null,
   "metadata": {},
   "outputs": [],
   "source": [
    "N=str(input(\"Ingrese un texto \\n\"))\n",
    "if N.count(\"a\")>2:\n",
    "    \n",
    "    print(\"Mayor\"))\n",
    "elif N.count(\"a\")==2:\n",
    "    print(\"Dos\")\n",
    "else:\n",
    "    \n",
    "    print(\"Menor\")"
   ]
  },
  {
   "cell_type": "markdown",
   "metadata": {},
   "source": [
    "Simple-medio \n",
    "9.Escriba un programa en python 3 que solicite por consola un número entero N y un texto M, luego utilice el número y el texto ingresado en el siguiente ejercicio: N corresponde al precio de un computador y M al nombre de un día de la semana. Si el día de la semana es \"lunes\",\"miercoles\" o \"viernes\", el computador tendra un descuento del 20%. Si el día es \"jueves\" el computador aumentara un 10% su valor. En caso contrario, el computador mantendra su precio. Imprima por pantalla el precio del computador según el caso, aproximado a dos cifras decimales.\n",
    "\n",
    "NOTA1: El mensaje al solicitar la entrada debe ser: \"Ingrese un numero entero \\n\", \"Ingrese un texto \\n\" tal como aparece entre comillas incluyendo la mayúscula inicial, el espacio y el \"\\n\" .\n",
    "\n",
    "NOTA2: El programa debe mostrar como resultado exclusivamente el número o texto indicado, no debe contener letras ni enunciados adicionales que lo acompañen."
   ]
  },
  {
   "cell_type": "code",
   "execution_count": null,
   "metadata": {},
   "outputs": [],
   "source": [
    "N=int(input(\"Ingrese un numero entero \\n\")) \n",
    "M=str(input(\"Ingrese un texto \\n\"))\n",
    "if (M==\"lunes\" or M==\"miercoles\"or M==\"viernes\"):\n",
    "    descuento=N*(0.2)\n",
    "    precio=N-descuento\n",
    "    print(round(precio,2))\n",
    "elif(M==\"jueves\"):\n",
    "    descuento=N*(0.1)\n",
    "    precio=N+descuento\n",
    "    print(round(precio,2))\n",
    "else:\n",
    "    print(N)\n",
    "    "
   ]
  },
  {
   "cell_type": "markdown",
   "metadata": {},
   "source": [
    "simple-dificil.\n",
    "10.Escriba un programa en python 3 que solicite por consola una lista N con 2 elementos, luego utilice la lista ingresada en el siguiente ejercicio:\n",
    "El primer elemento de la lista N corresponde a la medida del lado de un triangulo, el segundo elemento corresponde a la medida de otro lado del mismo triangulo, la medida del tercer lado del triangulo es la mitad de la medida del primer lado más el segundo lado. Calcule el perimetro de dicho triangulo, ingreselo al final de la lista aproximado a una cifra decimal y si el perimetro aproximado es mayor que 20, imprima por pantalla la lista. En caso contrario, ingrese tambien al final de la lista el texto \"Menor\" y luego imprimala.\n",
    "\n",
    "\n",
    "NOTA1: El mensaje al solicitar la entrada debe ser: \"Ingrese una lista \\n\" tal como aparece entre comillas incluyendo la mayúscula inicial, el espacio y el \"\\n\" .\n",
    "\n",
    "NOTA2: El programa debe mostrar como resultado exclusivamente el número o texto indicado, no debe contener letras ni enunciados adicionales que lo acompañen.\n",
    "\n",
    "NOTA3: Use la función eval()."
   ]
  },
  {
   "cell_type": "code",
   "execution_count": null,
   "metadata": {},
   "outputs": [],
   "source": [
    "N=eval(input(\"Ingrese una lista \\n\"))\n",
    "tercerlado=(N[0]/2)+N[1]\n",
    "perimetro=N[0]+N[1]+tercerlado\n",
    "N.append(round(perimetro,1))\n",
    "if perimetro>20:\n",
    "    \n",
    "    print(N)\n",
    "else:\n",
    "    N.append(\"Menor\")\n",
    "    print(N)"
   ]
  },
  {
   "cell_type": "markdown",
   "metadata": {},
   "source": [
    "Simple-facil:\n",
    "11.Escriba un programa en python 3 que solicite por consola un número N, luego utilice el texto ingresado en el siguiente ejercicio:\n",
    "N corresponde al valor por minuto de encender un bombillo en una casa. Considerando que el bombillo esta encendido durante 6 horas, calcule el precio total a pagar. Si el precio total a pagar supera los 234390.22 pesos, imprima por pantalla \"Sobrecosto\". En caso contrario, imprima por pantalla \"Promedio\"\n",
    "\n",
    "NOTA1: El mensaje al solicitar la entrada debe ser: \"Ingrese un numero \\n\" tal como aparece entre comillas incluyendo la mayúscula inicial, el espacio y el \"\\n\" .\n",
    "\n",
    "NOTA2: El programa debe mostrar como resultado exclusivamente el número o texto indicado, no debe contener letras ni enunciados adicionales que lo acompañen.\n"
   ]
  },
  {
   "cell_type": "code",
   "execution_count": null,
   "metadata": {},
   "outputs": [],
   "source": [
    "N=int(input(\"Ingrese un numero /n\"))\n",
    "minutos=6*60\n",
    "precio=N*minutos\n",
    "if precio>234390.22:\n",
    "    print(\"Sobrecosto\")\n",
    "else:\n",
    "    print(\"Promedio\")"
   ]
  },
  {
   "cell_type": "markdown",
   "metadata": {},
   "source": [
    "Simple-facil:\n",
    "12.Escriba un programa en python 3 que solicite por consola una lista N, luego utilice la lista ingresada en el siguiente ejercicio:\n",
    "Calcule la cantidad total de elementos en la lista. Si la cantidad de elementos es por lo menos 4, imprima por pantalla la cantidad de elementos. En caso contrario, imprima \"No\".\n",
    "\n",
    "NOTA1: El mensaje al solicitar la entrada debe ser: \"Ingrese una lista\\n\" tal como aparece entre comillas incluyendo la mayúscula inicial, el espacio y el \"\\n\" .\n",
    "\n",
    "NOTA2: El programa debe mostrar como resultado exclusivamente el número o texto indicado, no debe contener letras ni enunciados adicionales que lo acompañen."
   ]
  },
  {
   "cell_type": "code",
   "execution_count": null,
   "metadata": {},
   "outputs": [],
   "source": [
    "N=eval(input(\"Ingrese una lista \\n\"))\n",
    "cantidad=len(N)\n",
    "if cantidad >=4:\n",
    "    print(cantidad)\n",
    "else:\n",
    "    print(\"No\")"
   ]
  },
  {
   "cell_type": "markdown",
   "metadata": {},
   "source": [
    "Simple-facil:\n",
    "13.Escriba un programa en python 3 que solicite por consola una lista de listas (matriz) N, luego utilice la matriz ingresada en el siguiente ejercicio:\n",
    "Calcule la cantidad total de listas en la matriz. Si la cantidad de listas es por lo menos 3, imprima por pantalla la cantidad de listas. En caso contrario, imprima \"No\".\n",
    "\n",
    "NOTA1: El mensaje al solicitar la entrada debe ser: \"Ingrese una matriz \\n\" tal como aparece entre comillas incluyendo la mayúscula inicial, el espacio y el \"\\n\" .\n",
    "\n",
    "NOTA2: El programa debe mostrar como resultado exclusivamente el número o texto indicado, no debe contener letras ni enunciados adicionales que lo acompañen."
   ]
  },
  {
   "cell_type": "code",
   "execution_count": null,
   "metadata": {},
   "outputs": [],
   "source": [
    "N=eval(input(\"Ingrese una matriz \\n\"))\n",
    "cantidad=len(N)\n",
    "if cantidad >=3:\n",
    "    print(cantidad)\n",
    "else:\n",
    "    print(\"No\")"
   ]
  },
  {
   "cell_type": "markdown",
   "metadata": {},
   "source": [
    "14.Escriba un programa en python 3 que solicite por consola un número N, luego utilice el número ingresado en el siguiente ejercicio: \n",
    "N corresponde a la cantidad de tiempo en segundos que corre un atleta a una velocidad de 25m/s, calcule la distancia recorrida por el atleta. Si la distancia es mayor que 35, imprima la distancia redondeada a dos cifras deciamales. En caso contrario, imprima la suma del tiempo y la distancia, aproximada a dos dos cifras decimales.\n",
    "\n",
    "NOTA1: El mensaje al solicitar la entrada debe ser: \"Ingrese una numero \\n\" tal como aparece entre comillas incluyendo la mayúscula inicial, el espacio y el \"\\n\" .\n",
    "\n",
    "NOTA2: El programa debe mostrar como resultado exclusivamente el número o texto indicado, no debe contener letras ni enunciados adicionales que lo acompañen."
   ]
  },
  {
   "cell_type": "code",
   "execution_count": null,
   "metadata": {},
   "outputs": [],
   "source": [
    "N=float(input(\"Ingrese un numero \\n\"))\n",
    "distancia=25*N\n",
    "if distancia >35:\n",
    "    print(round(distancia,2))\n",
    "else:\n",
    "    print(round(distancia+N,2))"
   ]
  },
  {
   "cell_type": "markdown",
   "metadata": {},
   "source": [
    "15.Escriba un programa en python 3 que solicite por consola una lista N, luego utilice la lista ingresada en el siguiente ejercicio: \n",
    "Cuente la cantidad de elementos en la lista. Si la cantidad de elementos es por lo menos 4, sume los dos primeros elementos y añadalos al final de la lista, luego imprima la lista. En caso contrario, intercambie los elementos de la primera y la ultima posición de la lista e imprimala.\n",
    "\n",
    "NOTA1: El mensaje al solicitar la entrada debe ser: \"Ingrese una lista \\n\" tal como aparece entre comillas incluyendo la mayúscula inicial, el espacio y el \"\\n\" .\n",
    "\n",
    "NOTA2: El programa debe mostrar como resultado exclusivamente el número o texto indicado, no debe contener letras ni enunciados adicionales que lo acompañen."
   ]
  },
  {
   "cell_type": "code",
   "execution_count": null,
   "metadata": {},
   "outputs": [],
   "source": [
    "N=eval(input(\"Ingrese una lista \\n\"))\n",
    "elementos=len(N)\n",
    "if elementos >=4:\n",
    "    suma=N[0]+N[1]\n",
    "    N.append(suma)\n",
    "    print(N)\n",
    "else:\n",
    "    primero=N[0]\n",
    "    ultimo=N[elementos-1]\n",
    "    N[0]=ultimo\n",
    "    N[elementos-1]=primero\n",
    "    print(N)"
   ]
  },
  {
   "cell_type": "markdown",
   "metadata": {},
   "source": [
    "# Anidados:"
   ]
  },
  {
   "cell_type": "markdown",
   "metadata": {},
   "source": [
    "Medio:\n",
    "16.Escriba un programa en python 3 que solicite por consola una lista N, luego utilice la listas ingresada en el siguiente ejercicio:\n",
    "Cuente la cantidad de elementos de la lista. Si esta cantidad es par, elevela al cubo.Si el cubo de la cantidad es multipliplo de 3, entonces añada el cubo de la cantidad al final de la lista e imprimala por pantalla. Si el cubo de la cantidad no es multiplo de 3, imprima la lista por pantalla. En caso de que la cantidad de elementos no sea par, añada \"No es par\" al final de la lista e imprimala por pantalla\n",
    "\n",
    "NOTA1: El mensaje al solicitar la entradas debe ser: \"Ingrese una lista \\n\" tal como aparece entre comillas incluyendo la mayúscula inicial, el espacio y el \"\\n\" .\n",
    "\n",
    "NOTA2: El programa debe mostrar como resultado exclusivamente el número o texto indicado, no debe contener letras ni enunciados adicionales que lo acompañen."
   ]
  },
  {
   "cell_type": "code",
   "execution_count": 3,
   "metadata": {},
   "outputs": [
    {
     "name": "stdout",
     "output_type": "stream",
     "text": [
      "Ingrese una lista \n",
      "[2,3]\n",
      "Ingrese una lista \n",
      "[2]\n",
      "3\n"
     ]
    }
   ],
   "source": [
    "N=eval(input(\"Ingrese una lista \\n\"))\n",
    "cantidad=len(N)\n",
    "if(cantidad%2==0):\n",
    "    cubo=cantidad**3\n",
    "    if(cubo%3==0):\n",
    "        N.append(cubo)\n",
    "        print(N)\n",
    "    else:\n",
    "        print(N)\n",
    "else:\n",
    "    N.append(\"No es par\")\n",
    "    print(N)\n",
    "\n",
    "    "
   ]
  },
  {
   "cell_type": "markdown",
   "metadata": {},
   "source": [
    "facil:\n",
    "17.Escriba un programa en python 3 que solicite por consola un entero N, luego use el número ingresado en el siguiente ejercicio:\n",
    "\n",
    "Si el número N es par y multiplo de 3, elevelo al cuadrado. Si su cuadrado es multiplo de 5, imprimima el cuadrado. Si su cuadradado no es multiplo de 5, imprima el número N. En caso de que el número no sea par y multiplo de 3, imprima la mitad del numero, redondeada a dos cifras deciamales.\n",
    "\n",
    "NOTA1: El mensaje al solicitar la entradas debe ser: \"Ingrese un numero entero \\n\" tal como aparece entre comillas incluyendo la mayúscula inicial, el espacio y el \"\\n\" .\n",
    "\n",
    "NOTA2: El programa debe mostrar como resultado exclusivamente el número o texto indicado, no debe contener letras ni enunciados adicionales que lo acompañen."
   ]
  },
  {
   "cell_type": "code",
   "execution_count": 2,
   "metadata": {},
   "outputs": [
    {
     "name": "stdout",
     "output_type": "stream",
     "text": [
      "Ingrese un entero \n",
      "30\n",
      "900\n"
     ]
    }
   ],
   "source": [
    "N=int(input(\"Ingrese un numero entero \\n\"))\n",
    "if (N%2==0 and N%3==0):\n",
    "    cuadrado=N**2\n",
    "    if cuadrado%5==0:\n",
    "        print(cuadrado)\n",
    "    else:\n",
    "        print(N)\n",
    "else:\n",
    "    print(round(N/2,2))"
   ]
  },
  {
   "cell_type": "markdown",
   "metadata": {},
   "source": [
    "18.Escriba un programa en python 3 que solicite por consola una lista N y luego utilice la lista ingresada en el siguiente ejercicio:\n",
    "Cuente la cantidad de elementos de la lista N. Si la cantidad es un número par, obtenga el primer elemento de la lista. Si el primer elemento de la lista es par, elevelo al cuadrado e imprimalo por pantalla. Si el primer elemento no es par,imprimalo por pantalla. En caso de que la cantidad de elementos no sea par, imprima el ultimo elemento de la lista\n",
    "\n",
    "NOTA1: El mensaje al solicitar la entradas debe ser: \"Ingrese una lista \\n\" tal como aparece entre comillas incluyendo la mayúscula inicial, el espacio y el \"\\n\" .\n",
    "\n",
    "NOTA2: El programa debe mostrar como resultado exclusivamente el número o texto indicado, no debe contener letras ni enunciados adicionales que lo acompañen."
   ]
  },
  {
   "cell_type": "code",
   "execution_count": 5,
   "metadata": {},
   "outputs": [
    {
     "name": "stdout",
     "output_type": "stream",
     "text": [
      "Ingrese una lista \n",
      "[1]\n",
      "1\n"
     ]
    }
   ],
   "source": [
    "N=eval(input(\"Ingrese una lista \\n\"))\n",
    "if(len(N)%2==0):\n",
    "    if(N[0]%2==0):\n",
    "        print(N[0]**2)\n",
    "    else:\n",
    "        print(N[0])\n",
    "else:\n",
    "    print(N[len(N)-1])"
   ]
  },
  {
   "cell_type": "markdown",
   "metadata": {},
   "source": [
    "19.Escriba un programa en python 3 que solicite por consola un texto N y un entero M luego utilice el texto número ingresado en el siguiente ejercicio:\n",
    "\n",
    "Cuente la cantidad de caracteres que tiene el texto. Si la cantidad de caracteres, es un multiplo de M, cuente la cantidad de apariciones del caracter \"a\" dentro de N. Si la cantidad de apariciones de \"a\" es par, imprima por pantalla N. Si la cantidad de apariciones de \"a\" no es par, imprima por pantalla \"No es par\". Si la cantidad de caracteres de N no es multiplo de M, imprima los primeros 10 caracteres de N.\n",
    "\n",
    "NOTA1: El mensaje al solicitar la entradas debe ser: \"Ingrese un texto \\n\", \"Ingrese un numero entero \\n\" tal como aparece entre comillas incluyendo la mayúscula inicial, el espacio y el \"\\n\" .\n",
    "\n",
    "NOTA2: El programa debe mostrar como resultado exclusivamente el número o texto indicado, no debe contener letras ni enunciados adicionales que lo acompañen."
   ]
  },
  {
   "cell_type": "code",
   "execution_count": 5,
   "metadata": {},
   "outputs": [
    {
     "name": "stdout",
     "output_type": "stream",
     "text": [
      "Ingrese un texto \n",
      "aaaaaaaaaaaaab\n",
      "Ingrese un numero entero \n",
      "7\n",
      "No es par\n"
     ]
    }
   ],
   "source": [
    "N=str(input(\"Ingrese un texto \\n\"))\n",
    "M=int(input(\"Ingrese un numero entero \\n\"))\n",
    "if(len(N)%M==0):\n",
    "    if(N.count(\"a\")%2)==0:\n",
    "        print(N)\n",
    "    else:\n",
    "        print(\"No es par\")\n",
    "else:\n",
    "    print(N[0:10])"
   ]
  },
  {
   "cell_type": "markdown",
   "metadata": {},
   "source": [
    "20.Escriba un programa en python 3 que solicite por consola una lista N de elementos númericos y luego utilice la lista ingresada en el siguiente ejercicio:\n",
    "\n",
    "Realice la suma del primer y ultimo elemento de la lista, si la suma es por lo menos 30, intercambie las posiciones de ambos elementos. Si el nuevo último elemento es menor que 40, imprima la lista por pantalla. En caso contrario, imprima \"Mayor\" por pantalla. Si la suma inicial es menor que 30, imprima la lista por pantalla.\n",
    "\n",
    "\n",
    "NOTA1: El mensaje al solicitar la entradas debe ser: \"Ingrese una lista \\n\" tal como aparece entre comillas incluyendo la mayúscula inicial, el espacio y el \"\\n\" .\n",
    "\n",
    "NOTA2: El programa debe mostrar como resultado exclusivamente el número o texto indicado, no debe contener letras ni enunciados adicionales que lo acompañen."
   ]
  },
  {
   "cell_type": "code",
   "execution_count": 4,
   "metadata": {},
   "outputs": [
    {
     "name": "stdout",
     "output_type": "stream",
     "text": [
      "Ingrese una lista \n",
      "[2,3,4]\n",
      "[2, 3, 4]\n"
     ]
    }
   ],
   "source": [
    "N=eval(input(\"Ingrese una lista \\n\"))\n",
    "suma=N[0]+N[len(N)-1]\n",
    "if suma>=30:\n",
    "    primero=N[0]\n",
    "    ultimo=N[len(N)-1]\n",
    "    N[0]=ultimo\n",
    "    N[len(N)-1]=primero\n",
    "    if N[len(N)-1]<40:\n",
    "        print(N)\n",
    "    else:\n",
    "        print(\"Mayor\")\n",
    "else:\n",
    "    print(N)"
   ]
  },
  {
   "cell_type": "markdown",
   "metadata": {},
   "source": [
    "Medios:\n",
    "\n",
    "21.Escriba un programa en python 3 que solicite por consola dos números enteros N y M, luego utilicelos en el siguiente ejercicio:\n",
    "\n",
    "El numero N representa la cantidad de kilos de cemento que necesita un constructor para hacer una casa. El número M representa el valor de cada kilo de cemento. Se cuenta con un presupuesto de 600000 para la construcción, averigue si con dicho dinero se puede construir la casa.En caso de que se pueda, averigue la cantidad de dinero que sobra. Si la cantidad de dinero que sobra es por lo menos 100000, imprima dicha cantidad por pantalla. Si la cantidad sobrante es menor que 100000, imprima por pantalla la mitad de la cantidad, redondeada a una cifra decimal. Si con el dinero no se puede construir la casa, imprima por pantalla la suma de M+N.\n",
    "\n",
    "NOTA1: El mensaje al solicitar la entradas debe ser: \"Ingrese un numero entero \\n\" tal como aparece entre comillas incluyendo la mayúscula inicial, el espacio y el \"\\n\" .\n",
    "\n",
    "NOTA2: El programa debe mostrar como resultado exclusivamente el número o texto indicado, no debe contener letras ni enunciados adicionales que lo acompañen."
   ]
  },
  {
   "cell_type": "code",
   "execution_count": 4,
   "metadata": {},
   "outputs": [
    {
     "name": "stdout",
     "output_type": "stream",
     "text": [
      "Ingrese un numero entero \n",
      "20\n",
      "Ingrese un numero entero \n",
      "1\n",
      "599980\n"
     ]
    }
   ],
   "source": [
    "N=int(input(\"Ingrese un numero entero \\n\"))\n",
    "M=int(input(\"Ingrese un numero entero \\n\"))\n",
    "presupuesto=600000\n",
    "costo=M*N\n",
    "diferencia=600000-costo\n",
    "if diferencia>=0:\n",
    "    if diferencia>=100000:\n",
    "        print(diferencia)\n",
    "    else:\n",
    "        print(round(diferencia/2,1))\n",
    "else:\n",
    "    print(M+N)"
   ]
  },
  {
   "cell_type": "markdown",
   "metadata": {},
   "source": [
    "22.Escriba un programa en python 3 que solicite por consola dos números enteros N y M, luego utilicelos en el siguiente ejercicio:\n",
    "El numero N representa la cantidad de alumnos de un colegio que van para un paseo a Comfama. El número M representa el valor de la entrada al parque por cada alumno. El colegio cuenta con un presupuesto de 700000 para el paseo, averigue si con dicho dinero se puede hacer el paseo.En caso de que se pueda, averigue la cantidad de dinero que sobra. Si la cantidad de dinero que sobra es por lo menos 100000, imprima dicha cantidad por pantalla. Si la cantidad sobrante es menor que 100000, imprima por pantalla la mitad de la cantidad, redondeada a una cifra decimal. Si con el dinero no se puede realizar el paseo, imprima por pantalla la cantidad de niños que no podrian asistir al paseo (Tenga en cuenta que no es posible dejar medio niño).\n",
    "\n",
    "NOTA1: El mensaje al solicitar la entradas debe ser: \"Ingrese un numero entero \\n\" tal como aparece entre comillas incluyendo la mayúscula inicial, el espacio y el \"\\n\" .\n",
    "\n",
    "NOTA2: El programa debe mostrar como resultado exclusivamente el número o texto indicado, no debe contener letras ni enunciados adicionales que lo acompañen.\n"
   ]
  },
  {
   "cell_type": "code",
   "execution_count": 1,
   "metadata": {},
   "outputs": [
    {
     "name": "stdout",
     "output_type": "stream",
     "text": [
      "Ingrese un numero entero \n",
      "20\n",
      "Ingrese un numero entero \n",
      "36000\n",
      "1\n"
     ]
    }
   ],
   "source": [
    "import math\n",
    "N=int(input(\"Ingrese un numero entero \\n\"))\n",
    "M=int(input(\"Ingrese un numero entero \\n\"))\n",
    "costo=M*N\n",
    "diferencia=700000-costo\n",
    "if diferencia>=0:\n",
    "    if diferencia>=100000:\n",
    "        print(diferencia)\n",
    "    else:\n",
    "        print(round(diferencia/2,1))\n",
    "else:\n",
    "    diferencia=abs(diferencia)\n",
    "    nocaben=math.ceil(diferencia/M)\n",
    "    print(nocaben)"
   ]
  },
  {
   "cell_type": "markdown",
   "metadata": {},
   "source": [
    " Medio: \n",
    " 23.Escriba un programa en python 3 que solicite por consola una lista N Y una lista M luego utilice las listas ingresadas en el siguiente ejercicio: Cuente la cantidad de elementos de las listas. Si las cantidades de elementos son iguales, sea A la suma del primer elemento de ambas listas, sea B la suma del ultimo elemento de ambas listas, realice la suma de A + B. Si A+B es mayor que 50, imprima A+B. En caso de que A+B sea menor o igual a 50, imprima el tamaño de la lista. En caso de que las listas no tengan la misma cantidad de elementos, imprima la suma del tamaño de las listas.\n",
    "\n",
    "NOTA1: El mensaje al solicitar la entradas debe ser: \"Ingrese una lista \\n\" tal como aparece entre comillas incluyendo la mayúscula inicial, el espacio y el \"\\n\" .\n",
    "\n",
    "NOTA2: El programa debe mostrar como resultado exclusivamente el número o texto indicado, no debe contener letras ni enunciados adicionales que lo acompañen."
   ]
  },
  {
   "cell_type": "code",
   "execution_count": null,
   "metadata": {},
   "outputs": [],
   "source": [
    "N=eval(input(\"Ingrese una lista \\n\"))\n",
    "M=eval(input(\"Ingrese una lista \\n\"))\n",
    "cantidad1=len(N)\n",
    "cantidad2=len(M)\n",
    "if cantidad1==cantidad2:\n",
    "    A=N[0]+M[0]\n",
    "    B=N[cantidad1-1]+M[cantidad1-1]\n",
    "    C=A+B\n",
    "    if C>50:\n",
    "        print(C)\n",
    "    else:\n",
    "        print(cantidad1)\n",
    "else:\n",
    "    print(cantidad1+cantidad2)\n",
    "    "
   ]
  },
  {
   "cell_type": "markdown",
   "metadata": {},
   "source": [
    "24.Escriba un programa en python 3 que solicite por consola dos enteros N y M luego utilice los números ingresados en el siguiente ejercicio:\n",
    "N y M corresponden a dos catetos de un triangulo rectangulo, halle la hipotenusa de dicho triangulo, redondeada a dos cifras decimales. Si dicha hipotenusa es por lo menos 15, encuentre el perimetro del triangulo, si el perimetro es mayor a 30, imprimalo por pantalla redondeado a dos cifras decimales. Si el perimetro es menor o igual a 30, imprima por pantalla la mitad del perimetro redondeado dos cifras decimales. Si la hipotenusa del triangulo es menor a 15, imprimala por pantalla redondeada a dos cifras decimales.\n",
    "\n",
    "NOTA1: El mensaje al solicitar la entradas debe ser: \"Ingrese una numero entero \\n\" tal como aparece entre comillas incluyendo la mayúscula inicial, el espacio y el \"\\n\" .\n",
    "\n",
    "NOTA2: El programa debe mostrar como resultado exclusivamente el número o texto indicado, no debe contener letras ni enunciados adicionales que lo acompañen."
   ]
  },
  {
   "cell_type": "code",
   "execution_count": null,
   "metadata": {},
   "outputs": [],
   "source": [
    "N=int(input(\"Ingrese un entero \\n\"))\n",
    "M=int(input(\"Ingrese un entero \\n\"))\n",
    "ab=(M**2)+(N**2)\n",
    "hip=round(ab**(1/2),2)\n",
    "if hip>=15:\n",
    "    perimetro=N+M+hip\n",
    "    if perimetro>30:\n",
    "        print(round(perimetro,2))\n",
    "    else:\n",
    "        print(round(perimetro/2,2))\n",
    "else:\n",
    "    print(hip)\n"
   ]
  },
  {
   "cell_type": "markdown",
   "metadata": {},
   "source": [
    "25.Escriba un programa en python 3 que solicite por consola una lista N Y una lista M, ambas númericas de 3 elementos, luego utilice las listas ingresadas en el siguiente ejercicio:\n",
    "Calcule la sumatoria de los elementos de la lista N y calcule la sumatoria de los elementos de la lista M. Si la sumatoria de N es mayor que la de M, verifique si la suma de N es por lo menos 50. Si la suma de N es por lo menos 50, añada 50 al final de la lista N e imprimala por pantalla. En caso de que la suma sea menor a 50, añada 0 al final de la lista N e imprimala por pantalla. En caso de que la sumatoria de M sea mayor, agregue al final de M la sumatoria de N e imprima M por pantalla. Si las sumatorias de N y M son iguales, imprima por pantalla \"Iguales\"\n",
    "\n",
    "NOTA1: El mensaje al solicitar la entradas debe ser: \"Ingrese una lista \\n\" tal como aparece entre comillas incluyendo la mayúscula inicial, el espacio y el \"\\n\" .\n",
    "\n",
    "NOTA2: El programa debe mostrar como resultado exclusivamente el número o texto indicado, no debe contener letras ni enunciados adicionales que lo acompañen."
   ]
  },
  {
   "cell_type": "code",
   "execution_count": null,
   "metadata": {},
   "outputs": [],
   "source": [
    "N=eval(input(\"Ingrese una lista \\n\"))\n",
    "M=eval(input(\"Ingrese una lista \\n\"))\n",
    "sumn=sum(N)\n",
    "summ=sum(M)\n",
    "if sumn>summ:\n",
    "    if sumn>=50:\n",
    "        N.append(50)\n",
    "        print(N)\n",
    "    else:\n",
    "        N.append(0)\n",
    "        print(N)\n",
    "elif summ>sumn:\n",
    "    M.append(sumn)\n",
    "    print(M)\n",
    "else:\n",
    "    print(\"Iguales\")\n",
    "        \n",
    "        "
   ]
  },
  {
   "cell_type": "markdown",
   "metadata": {},
   "source": [
    "Díficiles:\n",
    "26.\n",
    "\n",
    "Escriba un programa en python 3 que solicite por consola un diccionario N Y una lista númerica M, luego utilice la lista y el diccionario en el siguiente ejercicio:\n",
    "\n",
    "El diccionario M contiene los costos de 3 servicios con claves \"Celular\",\"Televisor\",\"Internet\". Verifique si la suma de los costos que almacena el diccionario es igual a la suma de los elementos de la lista M. Si los costos son iguales a la suma de la lista, verifique si los costos son mayores a 100000. Si los costos son mayores a 100000, añada al diccionario la clave \"Costo\" y guarde el valor 100000 en dicha clave e imprima el diccionario por pantalla. Si los costos no son mayores a 100000, añada al diccionario la clave \"CostoTotal\" y almanece en ella el total del costo de los servicios e imprima el diccionario por pantalla. Si la suma de los costos que almacena el diccionario es diferente a la suma de los elementos de la lista, añada al diccionario la clave \"Lista\" y guarde en ella la lista M, posteriormente imprima el diccionario por pantalla.\n",
    "\n",
    "NOTA1: El mensaje al solicitar la entradas debe ser: \"Ingrese un diccionario \\n\", \"Ingrese una lista \\n\" tal como aparece entre comillas incluyendo la mayúscula inicial, el espacio y el \"\\n\" .\n",
    "\n",
    "NOTA2: El programa debe mostrar como resultado exclusivamente el número o texto indicado, no debe contener letras ni enunciados adicionales que lo acompañen."
   ]
  },
  {
   "cell_type": "code",
   "execution_count": 2,
   "metadata": {},
   "outputs": [
    {
     "name": "stdout",
     "output_type": "stream",
     "text": [
      "Ingrese un diccionario \n",
      "{\"Celular\":30000,\"Televisor\":5000,\"Internet\":10000}\n",
      "Ingrese una lista \n",
      "[30000,5000,10000]\n",
      "{'Celular': 30000, 'Televisor': 5000, 'Internet': 10000, 'CostoTotal': 45000}\n"
     ]
    }
   ],
   "source": [
    "N=eval(input(\"Ingrese un diccionario \\n\"))\n",
    "M=eval(input(\"Ingrese una lista \\n\"))\n",
    "sumadic=N[\"Celular\"]+N[\"Television\"]+N[\"Internet\"]\n",
    "sumalis=sum(M)\n",
    "if sumadic==sumalis:\n",
    "    if sumalis>100000:\n",
    "        N[\"Costo\"]=100000\n",
    "        print(N)\n",
    "    else:\n",
    "        N[\"CostoTotal\"]=sumalis\n",
    "        print(N)\n",
    "else:\n",
    "    N[\"Lista\"]=M\n",
    "    print(N)"
   ]
  },
  {
   "cell_type": "markdown",
   "metadata": {},
   "source": [
    "27.Escriba un programa en python 3 que solicite por consola una matriz cuadrada N de elementos númericos y luego utilice la matriz ingresada en el siguiente ejercicio:\n",
    "\n",
    "Si la matriz contiene un numero par de filas, intercambie la primera y la ultima fila. Posteriormente realice la suma de los elementos de la ultima fila. Si dicha suma es mayor a 45, añada otra fila al final de la matriz, que sea igual a la primera fila e imprima la matriz por pantalla. Si la suma no es mayor a 45, añada otra fila al final de la matriz, que sea igual a la ultima fila e imprima la matriz por pantalla.\n",
    "Si la matriz contiene un numero impar de filas, realice la suma de los elementos de la ultima fila mas los elementos de la primera fila. Si dicha suma es mayor o igual a 60, añada a una lista primero la suma de la primera fila, lugo la suma de la ultima fila e imprima la lista por pantalla. Si dicha suma es menor a 60, imprima la matriz original.\n",
    "\n",
    "\n",
    "NOTA1: El mensaje al solicitar la entradas debe ser: \"Ingrese una matriz \\n\" tal como aparece entre comillas incluyendo la mayúscula inicial, el espacio y el \"\\n\" .\n",
    "\n",
    "NOTA2: El programa debe mostrar como resultado exclusivamente el número o texto indicado, no debe contener letras ni enunciados adicionales que lo acompañen."
   ]
  },
  {
   "cell_type": "code",
   "execution_count": 4,
   "metadata": {},
   "outputs": [
    {
     "name": "stdout",
     "output_type": "stream",
     "text": [
      "Ingrese una matriz \n",
      "[[10,3,4],[30,4,5],[50,8,9],[20,30,40]]\n",
      "[[20, 30, 40], [30, 4, 5], [50, 8, 9], [10, 3, 4], [10, 3, 4]]\n"
     ]
    }
   ],
   "source": [
    "N=eval(input(\"Ingrese una matriz \\n\"))\n",
    "filas=len(N)\n",
    "if filas%2==0:\n",
    "    primera=N[0]\n",
    "    ultima=N[filas-1]\n",
    "    N[0]=ultima\n",
    "    N[filas-1]=primera\n",
    "    suma=sum(N[filas-1])\n",
    "    if suma>45:\n",
    "        N.append(N[0])\n",
    "        print(N)\n",
    "    else:\n",
    "        N.append(N[filas-1])\n",
    "        print(N)\n",
    "else:\n",
    "    suma=sum(N[0])+sum(N[filas-1])\n",
    "    if suma>=60:\n",
    "        lista=[sum(N[0]),sum(N[filas-1])]\n",
    "        print(lista)\n",
    "    else:\n",
    "        print(N)\n",
    "        \n",
    "        \n",
    "    "
   ]
  },
  {
   "cell_type": "markdown",
   "metadata": {},
   "source": [
    "28.\n",
    "Escriba un programa en python 3 que solicite por consola un diccionario N, luego utilice  el diccionario en el siguiente ejercicio:\n",
    "\n",
    "El diccionario N contiene la agenda telefonica de Andres, sus amigos (claves) son: \"Juan\", \"Monica\", \"Marta\", cada amigo esta guardado con su número telefonico. Andres desea saber si el numero telefonico de Marta es un numero par. Si el numero de Marta es par, andres añadira otro contacto llamado \"Madre\" a su agenda y su número sera el doble del numero de Marta. Si el numero de su \"Madre\" es multiplo de 5, Andres guardara el contacto de \"Padre\" con el doble del número de \"Juan\" y se imprimira la agenda telefonica por pantalla. Si el numero de su madre no es multiplo de 5, simplemente se imprimira la agenda telefonica. Si el número telefonico de \"Marta\" no es par, se agregara el contacto \"Marcos\" y tendra el triple del número de \"Monica\" e imprimira la agenda por pantalla.\n",
    "\n",
    "\n",
    "NOTA1: El mensaje al solicitar la entradas debe ser: \"Ingrese un diccionario \\n\",tal como aparece entre comillas incluyendo la mayúscula inicial, el espacio y el \"\\n\" .\n",
    "\n",
    "NOTA2: El programa debe mostrar como resultado exclusivamente el número o texto indicado, no debe contener letras ni enunciados adicionales que lo acompañen."
   ]
  },
  {
   "cell_type": "code",
   "execution_count": 3,
   "metadata": {},
   "outputs": [
    {
     "name": "stdout",
     "output_type": "stream",
     "text": [
      "Ingrese un diccionario \n",
      "{\"Juan\":300,\"Monica\":200,\"Marta\":313}\n",
      "{'Juan': 300, 'Monica': 200, 'Marta': 313, 'Marcos': 600}\n"
     ]
    }
   ],
   "source": [
    "N=eval(input(\"Ingrese un diccionario \\n\"))\n",
    "marta=N['Marta']\n",
    "if marta%2==0:\n",
    "    N['Madre']=2*marta\n",
    "    madre=N['Madre']\n",
    "    if madre%5==0:\n",
    "        juan=N['Juan']\n",
    "        N['Padre']=2*juan\n",
    "        print(N)\n",
    "    else:\n",
    "        print(N)\n",
    "else:\n",
    "    monica=N['Monica']\n",
    "    N['Marcos']=3*monica\n",
    "    print(N)\n",
    "        "
   ]
  },
  {
   "cell_type": "code",
   "execution_count": null,
   "metadata": {},
   "outputs": [],
   "source": []
  }
 ],
 "metadata": {
  "kernelspec": {
   "display_name": "Python 3",
   "language": "python",
   "name": "python3"
  },
  "language_info": {
   "codemirror_mode": {
    "name": "ipython",
    "version": 3
   },
   "file_extension": ".py",
   "mimetype": "text/x-python",
   "name": "python",
   "nbconvert_exporter": "python",
   "pygments_lexer": "ipython3",
   "version": "3.6.5"
  }
 },
 "nbformat": 4,
 "nbformat_minor": 2
}
