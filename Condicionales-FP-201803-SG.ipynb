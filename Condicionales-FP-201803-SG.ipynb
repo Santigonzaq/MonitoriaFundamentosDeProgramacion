{
 "cells": [
  {
   "cell_type": "markdown",
   "metadata": {},
   "source": [
    "1.Escriba un programa en python 3 que solicite por consola dos números enteros N y M, luego utilice los números ingresados en el siguiente ejercicio:\n",
    "\n",
    "La edad de Juan está representada por el número N, la edad de Marcos está representada por el número M. Si la edad de Juan es el doble de la edad de Marcos, el programa debe imprimir “Es el doble”. Si la edad de Juan es el triple de la edad de Marcos, el programa debe imprimir “Es el triple”. Si ambas edades son iguales, el programa debe imprimir “Son iguales”. En cualquier otro caso, el programa debe imprimir “Ninguna de las anteriores” y el valor absoluto de la diferencia de las edades.\n",
    "\n",
    "NOTA1: El mensaje al solicitar la entrada debe ser: \"Ingrese un numero entero \\n\", tal como aparece entre comillas incluyendo la mayúscula inicial, el espacio y el \"\\n\" después de \"entero\".\n",
    "\n",
    "NOTA2: El programa debe mostrar como resultado exclusivamente el texto o número indicado, no debe contener letras ni enunciados adicionales que lo acompañen.\n"
   ]
  },
  {
   "cell_type": "code",
   "execution_count": 1,
   "metadata": {},
   "outputs": [
    {
     "name": "stdout",
     "output_type": "stream",
     "text": [
      "Ingrese un numero entero \n",
      "5\n",
      "Ingrese un numero entero \n",
      "4\n",
      "Ninguna de las anteriores\n",
      "1\n"
     ]
    }
   ],
   "source": [
    "\n",
    "N=int(input(\"Ingrese un numero entero \\n\")) #edad de Juan\n",
    "M=int(input(\"Ingrese un numero entero \\n\")) #edad de Marcos\n",
    "if N==2*M:\n",
    "    print(\"Es el doble\")\n",
    "elif N==3*M:\n",
    "    print(\"Es el triple\")\n",
    "elif N==M:\n",
    "    print(\"Son iguales\")\n",
    "else:\n",
    "    print(\"Ninguna de las anteriores\")\n",
    "    print(abs(N-M))"
   ]
  },
  {
   "cell_type": "markdown",
   "metadata": {},
   "source": [
    "2.Escriba un programa en python 3 que solicite por consola tres números enteros N, M y L, luego utilice los números ingresados en el siguiente ejercicio:\n",
    "Si la suma de N y M es un múltiplo de L, el programa debe imprimir “Es multiplo” y el cuadrado de la suma de N y M. En caso contrario, imprima “No es multiplo” y la suma de los cuadrados de los tres números.\n",
    "\n",
    "NOTA1: El mensaje al solicitar la entrada debe ser: \"Ingrese un numero entero \\n\", tal como aparece entre comillas incluyendo la mayúscula inicial, el espacio y el \"\\n\" después de \"entero\".\n",
    "\n",
    "NOTA2: El programa debe mostrar como resultado exclusivamente el texto y número indicado, no debe contener letras ni enunciados adicionales que lo acompañen.\n"
   ]
  },
  {
   "cell_type": "code",
   "execution_count": 3,
   "metadata": {},
   "outputs": [
    {
     "name": "stdout",
     "output_type": "stream",
     "text": [
      "Ingrese un numero entero \n",
      "2\n",
      "Ingrese un numero entero \n",
      "5\n",
      "Ingrese un numero entero \n",
      "9\n",
      "No es multiplo\n",
      "110\n"
     ]
    }
   ],
   "source": [
    "simple-medio\n",
    "N=int(input(\"Ingrese un numero entero \\n\")) \n",
    "M=int(input(\"Ingrese un numero entero \\n\")) \n",
    "L=int(input(\"Ingrese un numero entero \\n\"))\n",
    "if((N+M)%L==0):\n",
    "    print(\"Es multiplo\")\n",
    "    print((N+M)**2)\n",
    "else:\n",
    "    print(\"No es multiplo\")\n",
    "    suma=(N**2)+(M**2)+(L**2)\n",
    "    print(suma)\n"
   ]
  },
  {
   "cell_type": "markdown",
   "metadata": {},
   "source": [
    "simple-medio.\n",
    "3.Escriba un programa en python 3 que solicite por consola dos números enteros N y M, luego utilice los números ingresados en el siguiente ejercicio:\n",
    "\n",
    "Un vendedor de camisas quiere saber cuánto dinero obtendrá si vende N camisas a un precio de M pesos por unidad. El vendedor tiene una regla, si el dinero obtenido corresponde a un número par, dona a una fundación un total de $50 por cada camisa vendida. Si el dinero obtenido corresponde a un número impar, dona a una fundación un total de $25 por cada camisa vendida. Muestre por pantalla con cuánto dinero queda en total el vendedor en cada caso.\n",
    "\n",
    "NOTA1: El mensaje al solicitar la entrada debe ser: \"Ingrese un numero entero \\n\", tal como aparece entre comillas incluyendo la mayúscula inicial, el espacio y el \"\\n\" después de \"entero\".\n",
    "\n",
    "NOTA2: El programa debe mostrar como resultado exclusivamente el número indicado, no debe contener letras ni enunciados adicionales que lo acompañen.\n"
   ]
  },
  {
   "cell_type": "code",
   "execution_count": 4,
   "metadata": {},
   "outputs": [
    {
     "name": "stdout",
     "output_type": "stream",
     "text": [
      "Ingrese un numero entero \n",
      "33\n",
      "Ingrese un numero entero \n",
      "99\n",
      "2442\n"
     ]
    }
   ],
   "source": [
    "N=int(input(\"Ingrese un numero entero \\n\")) \n",
    "M=int(input(\"Ingrese un numero entero \\n\"))\n",
    "gananciaprevia=N*M\n",
    "if(gananciaprevia%2==0):\n",
    "    descuento=50*N\n",
    "    total=gananciaprevia-descuento\n",
    "    print(total)\n",
    "else:\n",
    "    descuento=25*N\n",
    "    total=gananciaprevia-descuento\n",
    "    print(total)"
   ]
  },
  {
   "cell_type": "markdown",
   "metadata": {},
   "source": [
    "simple-dificil.\n",
    "4.Escriba un programa en python 3 que solicite por consola un número entero  N, luego utilice el número ingresado en el siguiente ejercicio:\n",
    "N es el total de kilómetros que debe recorrer un carro para ir desde un lugar A a un lugar B. El costo de la gasolina por kilómetro es de $3340 pesos, adicionalmente cada 300 kilometros (exactamente) gasta $2000 en comida. El conductor dispone de $2300000 pesos para cubrir los gastos de viaje. Verifique si con el dinero que posee el conductor puede cubrir todos los gastos del viaje. En caso de que pueda, imprima por pantalla la cantidad de dinero que le sobra, en caso contrario, imprima por pantalla \"No puede viajar\".\n",
    "NOTA1: El mensaje al solicitar la entrada debe ser: \"Ingrese un numero entero \\n\", tal como aparece entre comillas incluyendo la mayúscula inicial, el espacio y el \"\\n\" .\n",
    "\n",
    "NOTA2: El programa debe mostrar como resultado exclusivamente el número o texto indicado, no debe contener letras ni enunciados adicionales que lo acompañen.\n",
    "\n",
    "NOTA3: Importar la libreria math para usar la función piso, retorna el valor entero más cercano hacia abajo. ejemplo math.floor(3.3) es igual a 3.\n"
   ]
  },
  {
   "cell_type": "code",
   "execution_count": 5,
   "metadata": {},
   "outputs": [
    {
     "name": "stdout",
     "output_type": "stream",
     "text": [
      "Ingrese un numero entero \n",
      "400\n",
      "962000\n"
     ]
    }
   ],
   "source": [
    "import math\n",
    "N=int(input(\"Ingrese un numero entero \\n\")) \n",
    "gastogasolina=3340*N\n",
    "comidas=math.floor(N/300)\n",
    "gastocomidas=2000*comidas\n",
    "diferencia=2300000-gastogasolina-gastocomidas\n",
    "if(diferencia>=0):\n",
    "    print(diferencia)\n",
    "else:\n",
    "    print(\"No puede viajar\")"
   ]
  },
  {
   "cell_type": "markdown",
   "metadata": {},
   "source": [
    "5.Escriba un programa en python 3 que solicite por consola dos números enteros N y M, luego utilice los números ingresados en el siguiente ejercicio:\n",
    "N representa el precio de la libra de café Colombiano, M representa el precio de la libra de café importado. Un comprador tiene $700000 pesos para comprar café. El comprador solo comprará café Colombiano si la cantidad de libras que puede comprar con el dinero supera por lo menos en 10 unidades la cantidad de libras que puede comprar del importado. En caso contrario comprará café importado. Imprima por pantalla “Colombiano” o “Importado” según sea el caso y la cantidad de libras que puede comprar del mismo (Tenga en cuenta que solo se pueden comprar cantidades enteras de libras).\n",
    "\n",
    "NOTA1: El mensaje al solicitar la entrada debe ser: \"Ingrese un numero entero \\n\", tal como aparece entre comillas incluyendo la mayúscula inicial, el espacio y el \"\\n\" después de \"entero\".\n",
    "\n",
    "NOTA2: El programa debe mostrar como resultado exclusivamente el texto y número indicado, no debe contener letras ni enunciados adicionales que lo acompañen.\n",
    "\n",
    "NOTA3: Importar la libreria math para usar la función piso, retorna el valor entero más cercano hacia abajo. ejemplo math.floor(3.3) es igual a 3.\n"
   ]
  },
  {
   "cell_type": "code",
   "execution_count": 3,
   "metadata": {},
   "outputs": [
    {
     "name": "stdout",
     "output_type": "stream",
     "text": [
      "Ingrese un numero entero \n",
      "5600\n",
      "Ingrese un numero entero \n",
      "5900\n",
      "Importado\n",
      "118\n"
     ]
    }
   ],
   "source": [
    "import math\n",
    "N=int(input(\"Ingrese un numero entero \\n\")) ##Colombiano\n",
    "M=int(input(\"Ingrese un numero entero \\n\"))  ##Importado\n",
    "cantidadcolombiano=math.floor(700000/N)\n",
    "cantidadimportado=math.floor(700000/M)\n",
    "if(cantidadcolombiano-cantidadimportado>=10):\n",
    "    print(\"Colombiano\")\n",
    "    print(cantidadcolombiano)\n",
    "else:\n",
    "    print(\"Importado\")\n",
    "    print(cantidadimportado)\n"
   ]
  },
  {
   "cell_type": "markdown",
   "metadata": {},
   "source": [
    "Anidados- díficil.\n",
    "6.Escriba un programa en python 3 que solicite por consola un número entero  N y un texto M, luego utilice el número y el texto ingresado en el siguiente ejercicio:\n",
    "N corresponde a la hora a la que se levanta una persona (formato 12 horas) en cualquier día (Solo horas cerras: 1,2,3,4....12), M corresponde a un texto que indica si es am o pm. Teniedo en cuenta que temprano es de 5 am-12 pm (incluendo solo el extremo izquierdo), tarde es de 12 pm-6 pm(incluyendo solo el extremo izquierdo) y noche es de 6 pm - 11 pm (incluyendo solo el extremo izquierdo). Si N es diferente de \"am\" o \"pm\" es un error. Imprima \"Temprano\", \"Tarde\", \"Noche\" o \"Error\" según sea el caso.\n",
    "NOTA1: El mensaje al solicitar la entrada debe ser: \"Ingrese un numero entero \\n\", \"Ingrese un texto \\n\" tal como aparece entre comillas incluyendo la mayúscula inicial, el espacio y el \"\\n\" .\n",
    "\n",
    "NOTA2: El programa debe mostrar como resultado exclusivamente el número o texto indicado, no debe contener letras ni enunciados adicionales que lo acompañen.\n",
    "\n",
    "\n"
   ]
  },
  {
   "cell_type": "code",
   "execution_count": 27,
   "metadata": {},
   "outputs": [
    {
     "name": "stdout",
     "output_type": "stream",
     "text": [
      "Ingrese un numero entero \n",
      "12 \n",
      "Ingrese un texto \n",
      "am\n"
     ]
    }
   ],
   "source": [
    "N=int(input(\"Ingrese un numero entero \\n\")) \n",
    "M=str(input(\"Ingrese un texto \\n\"))\n",
    "if M==\"am\":\n",
    "    if(N>=5 and N<12):\n",
    "        print(\"Temprano\")\n",
    "if M==\"pm\":\n",
    "    if(N==12 or N<6):\n",
    "        print(\"Tarde\")\n",
    "    if(N>=6 and N<11):\n",
    "        print(\"Noche\")\n",
    "if(M!=\"am\" and M!=\"pm\"):\n",
    "    print(\"Error\")\n",
    "    \n",
    "    "
   ]
  },
  {
   "cell_type": "markdown",
   "metadata": {},
   "source": [
    "simple-facil\n",
    "7.Escriba un programa en python 3 que solicite por consola un número entero  N y un texto M, luego utilice el número y el texto \n",
    "ingresado en el siguiente ejercicio:\n",
    "N corresponde a un numero entero y M a una palabra cualquiera. Imprima \"Verdadero\" si  N corresponde a la cantidad de letras de la palabra M. De lo contrario, imprima \"Falso\". \n",
    "\n",
    "NOTA1: El mensaje al solicitar la entrada debe ser: \"Ingrese un numero entero \\n\", \"Ingrese un texto \\n\" tal como aparece entre comillas incluyendo la mayúscula inicial, el espacio y el \"\\n\" .\n",
    "\n",
    "NOTA2: El programa debe mostrar como resultado exclusivamente el número o texto indicado, no debe contener letras ni enunciados adicionales que lo acompañen.\n"
   ]
  },
  {
   "cell_type": "code",
   "execution_count": 30,
   "metadata": {},
   "outputs": [
    {
     "name": "stdout",
     "output_type": "stream",
     "text": [
      "Ingrese un numero entero \n",
      "3\n",
      "Ingrese un texto \n",
      "oe\n",
      "Falso\n"
     ]
    }
   ],
   "source": [
    "N=int(input(\"Ingrese un numero entero \\n\")) \n",
    "M=str(input(\"Ingrese un texto \\n\"))\n",
    "if N==len(M):\n",
    "      print(\"Verdadero\")\n",
    "else:\n",
    "      print(\"Falso\")"
   ]
  },
  {
   "cell_type": "markdown",
   "metadata": {},
   "source": [
    "simple medio \n",
    "8.Escriba un programa en python 3 que solicite por consola un texo  N, luego utilice el texto ingresado en el siguiente ejercicio:\n",
    "Usualmente, la palabra N tiene más de dos letras \"a\". Se desea saber si dicho número de \"a\" que contiene la palabra es por lo menos 2,igual a 2 o menor que 2. Si el numero de \"a\" en la palabra es mayor que dos, imprima \"Mayor\" y el numero de \"a\" que contiene. Si es exactamente 2, imprima \"Dos\". Si es menor que 2, imprima \"Menor\" y el número de \"a\" que contiene la palabra.\n",
    "\n",
    "NOTA1: El mensaje al solicitar la entrada debe ser: \"Ingrese un texto \\n\" tal como aparece entre comillas incluyendo la mayúscula inicial, el espacio y el \"\\n\" .\n",
    "\n",
    "NOTA2: El programa debe mostrar como resultado exclusivamente el número o texto indicado, no debe contener letras ni enunciados adicionales que lo acompañen."
   ]
  },
  {
   "cell_type": "code",
   "execution_count": 37,
   "metadata": {},
   "outputs": [
    {
     "name": "stdout",
     "output_type": "stream",
     "text": [
      "Ingrese un texto \n",
      "holaaa\n",
      "Mayor\n",
      "3\n"
     ]
    }
   ],
   "source": [
    "N=str(input(\"Ingrese un texto \\n\"))\n",
    "if N.count(\"a\")>2:\n",
    "    print(\"Mayor\")\n",
    "    print(N.count(\"a\"))\n",
    "elif N.count(\"a\")==2:\n",
    "    print(\"Dos\")\n",
    "else:\n",
    "    print(\"Menor\")\n",
    "    print(N.count(\"a\"))\n",
    "    "
   ]
  },
  {
   "cell_type": "markdown",
   "metadata": {},
   "source": [
    "Simple-medio\n",
    "9.Escriba un programa en python 3 que solicite por consola un número entero  N y un texto M, luego utilice el número y el texto \n",
    "ingresado en el siguiente ejercicio:\n",
    "N corresponde al precio de un computador y M al nombre de un día de la semana. Si el día de la semana es \"lunes\",\"miercoles\" o \"viernes\", el computador tendra un descuento del 20%. Si el día es \"jueves\" el computador aumentara un 10% su valor. En caso contrario, el computador mantendra su precio. Imprima por pantalla el precio del computador según el caso, aproximado a dos cifras decimales. \n",
    "\n",
    "NOTA1: El mensaje al solicitar la entrada debe ser: \"Ingrese un numero entero \\n\", \"Ingrese un texto \\n\" tal como aparece entre comillas incluyendo la mayúscula inicial, el espacio y el \"\\n\" .\n",
    "\n",
    "NOTA2: El programa debe mostrar como resultado exclusivamente el número o texto indicado, no debe contener letras ni enunciados adicionales que lo acompañen."
   ]
  },
  {
   "cell_type": "code",
   "execution_count": 45,
   "metadata": {},
   "outputs": [
    {
     "name": "stdout",
     "output_type": "stream",
     "text": [
      "Ingrese un numero entero \n",
      "21500\n",
      "Ingrese un texto \n",
      "lunes\n",
      "17200.0\n"
     ]
    }
   ],
   "source": [
    "N=int(input(\"Ingrese un numero entero \\n\")) \n",
    "M=str(input(\"Ingrese un texto \\n\"))\n",
    "if (M==\"lunes\" or M==\"miercoles\"or M==\"viernes\"):\n",
    "    descuento=N*(0.2)\n",
    "    precio=N-descuento\n",
    "    print(round(precio,2))\n",
    "elif(M==\"jueves\"):\n",
    "    descuento=N*(0.1)\n",
    "    precio=N+descuento\n",
    "    print(round(precio,2))\n",
    "else:\n",
    "    print(N)\n",
    "    "
   ]
  },
  {
   "cell_type": "markdown",
   "metadata": {},
   "source": [
    "simple-dificil.\n",
    "10.Escriba un programa en python 3 que solicite por consola una lista N con 2 elementos, luego utilice la lista ingresada en el siguiente ejercicio:\n",
    "El primer elemento de la lista N corresponde a la medida del lado de un triangulo, el segundo elemento corresponde a la medida de otro lado del mismo triangulo, la medida del tercer lado del triangulo es la mitad de la medida del primer lado más el segundo lado. Calcule el perimetro de dicho triangulo, ingreselo al final de la lista aproximado a una cifra decimal y si el perimetro es mayor que 20, imprima por pantalla \"Mayor\" y la lista. En caso contrario, imprima por pantalla \"Menor\" y la lista.\n",
    "\n",
    "\n",
    "NOTA1: El mensaje al solicitar la entrada debe ser: \"Ingrese una lista \\n\" tal como aparece entre comillas incluyendo la mayúscula inicial, el espacio y el \"\\n\" .\n",
    "\n",
    "NOTA2: El programa debe mostrar como resultado exclusivamente el número o texto indicado, no debe contener letras ni enunciados adicionales que lo acompañen.\n",
    "\n",
    "NOTA3: Use la función eval().\n"
   ]
  },
  {
   "cell_type": "code",
   "execution_count": 5,
   "metadata": {},
   "outputs": [
    {
     "name": "stdout",
     "output_type": "stream",
     "text": [
      "Ingrese una lista \n",
      "[21.34,45.2]\n",
      "Mayor\n",
      "[21.34, 45.2, 122.4]\n"
     ]
    }
   ],
   "source": [
    "N=eval(input(\"Ingrese una lista \\n\"))\n",
    "tercerlado=(N[0]/2)+N[1]\n",
    "perimetro=N[0]+N[1]+tercerlado\n",
    "N.append(round(perimetro,1))\n",
    "if perimetro>20:\n",
    "    print(\"Mayor\")\n",
    "    print(N)\n",
    "else:\n",
    "    print(\"Menor\")\n",
    "    print(N)"
   ]
  },
  {
   "cell_type": "code",
   "execution_count": null,
   "metadata": {},
   "outputs": [],
   "source": []
  },
  {
   "cell_type": "code",
   "execution_count": null,
   "metadata": {},
   "outputs": [],
   "source": []
  }
 ],
 "metadata": {
  "kernelspec": {
   "display_name": "Python 3",
   "language": "python",
   "name": "python3"
  },
  "language_info": {
   "codemirror_mode": {
    "name": "ipython",
    "version": 3
   },
   "file_extension": ".py",
   "mimetype": "text/x-python",
   "name": "python",
   "nbconvert_exporter": "python",
   "pygments_lexer": "ipython3",
   "version": "3.6.5"
  }
 },
 "nbformat": 4,
 "nbformat_minor": 2
}
