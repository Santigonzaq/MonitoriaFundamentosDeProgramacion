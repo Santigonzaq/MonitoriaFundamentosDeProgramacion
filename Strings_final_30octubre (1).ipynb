{
 "cells": [
  {
   "cell_type": "markdown",
   "metadata": {},
   "source": [
    "#Medio\n",
    "1.Cree un programa en python 3 que solicite por consola dos strings N y M. El programa debe verificar si con los carácteres que componen el string M se puede formar el string N. En caso de que se pueda, el programa debe imprimir \"Si\" por pantalla. En caso contrario, el programa debe imprimir \"No\".\n",
    "\n",
    "NOTA1: El mensaje al solicitar laS entrada debe ser: \"Ingrese un string \\n\", tal como aparece entre comillas incluyendo la mayúscula inicial, el espacio y el \"\\n\" después de \"string\".\n",
    "\n",
    "NOTA2: El programa debe mostrar como resultado exclusivamente lo indicado, no debe contener letras ni enunciados adicionales que lo acompañen."
   ]
  },
  {
   "cell_type": "code",
   "execution_count": 3,
   "metadata": {},
   "outputs": [
    {
     "name": "stdout",
     "output_type": "stream",
     "text": [
      "Ingrese un string \n",
      "oelo\n",
      "Ingrese un string \n",
      "holaseñores\n",
      "Si\n"
     ]
    }
   ],
   "source": [
    "N=str(input(\"Ingrese un string \\n\"))\n",
    "M=str(input(\"Ingrese un string \\n\"))\n",
    "i=0\n",
    "verificador=len(N)\n",
    "for k in N:\n",
    "    if k in M:\n",
    "        i+=1\n",
    "if i==verificador:\n",
    "    print(\"Si\")\n",
    "else:\n",
    "    print(\"No\")"
   ]
  },
  {
   "cell_type": "markdown",
   "metadata": {},
   "source": [
    "2.Cree un programa en python 3 que solicite por consola una palabra M. El programa debe crear un nuevo string conformado por los carácteres de M que estén en indices pares (0,2,4...) y finalmente debe imprimir dicho nuevo string.\n",
    "\n",
    "NOTA1: El mensaje al solicitar la entrada debe ser: \"Ingrese una palabra \\n\", tal como aparece entre comillas incluyendo la mayúscula inicial, el espacio y el \"\\n\" después de \"palabra\".\n",
    "\n",
    "NOTA2: El programa debe mostrar como resultado exclusivamente lo indicado, no debe contener letras ni enunciados adicionales que lo acompañen."
   ]
  },
  {
   "cell_type": "code",
   "execution_count": null,
   "metadata": {},
   "outputs": [],
   "source": [
    "M=str(input(\"Ingrese una palabra \\n\"))\n",
    "string=\"\"\n",
    "i=0\n",
    "for k in M:\n",
    "    if i%2==0:\n",
    "        string=string+k\n",
    "    i+=1\n",
    "print(string)"
   ]
  },
  {
   "cell_type": "markdown",
   "metadata": {},
   "source": [
    "3.Cree un programa en python 3 que solicite por consola una palabra M. El programa debe crear un nuevo string conformado por los carácteres de M que estén en indices impares (1,3,5...) y finalmente debe imprimir dicho nuevo string.\n",
    "\n",
    "NOTA1: El mensaje al solicitar la entrada debe ser: \"Ingrese una palabra \\n\", tal como aparece entre comillas incluyendo la mayúscula inicial, el espacio y el \"\\n\" después de \"palabra\".\n",
    "\n",
    "NOTA2: El programa debe mostrar como resultado exclusivamente lo indicado, no debe contener letras ni enunciados adicionales que lo acompañen."
   ]
  },
  {
   "cell_type": "code",
   "execution_count": 1,
   "metadata": {},
   "outputs": [
    {
     "name": "stdout",
     "output_type": "stream",
     "text": [
      "Ingrese un string \n",
      "hola\n",
      "oa\n"
     ]
    }
   ],
   "source": [
    "M=str(input(\"Ingrese un string \\n\"))\n",
    "string=\"\"\n",
    "i=0\n",
    "for k in M:\n",
    "    if i%2==1:\n",
    "        string=string+k\n",
    "    i+=1\n",
    "print(string)"
   ]
  },
  {
   "cell_type": "markdown",
   "metadata": {},
   "source": [
    "4.Cree un programa en python 3 que solicite por consola dos strings N y M. El programa debe crear dos nuevos strings. El primero compuesto por el string N, concatenado al principio con los dos primeros caracteres de M y concatenado al final con los dos ultimos carácteres de M. El segundo compuesto por el string M, concatenado al principio con los dos primeros carácteres de N y concatenado al final con los dos ultimos caracteres de N. Finalmente, imprima ambos neuvos strings en su respectivo orden.\n",
    "\n",
    "NOTA1: El mensaje al solicitar las entrada debe ser: \"Ingrese un string \\n\", tal como aparece entre comillas incluyendo la mayúscula inicial, el espacio y el \"\\n\" después de \"string\".\n",
    "\n",
    "NOTA2: El programa debe mostrar como resultado exclusivamente lo indicado, no debe contener letras ni enunciados adicionales que lo acompañen."
   ]
  },
  {
   "cell_type": "code",
   "execution_count": 2,
   "metadata": {},
   "outputs": [
    {
     "name": "stdout",
     "output_type": "stream",
     "text": [
      "Ingrese un string \n",
      "hola\n",
      "Ingrese un string \n",
      "lindo\n",
      "liholado\n",
      "holindola\n"
     ]
    }
   ],
   "source": [
    "N=str(input(\"Ingrese un string \\n\"))\n",
    "M=str(input(\"Ingrese un string \\n\"))\n",
    "inicioN=N[0:2]\n",
    "finalN=N[len(N)-2:]\n",
    "nuevoM=inicioN+M\n",
    "nuevoM=nuevoM+finalN\n",
    "\n",
    "\n",
    "inicioM=M[0:2]\n",
    "finalM=M[len(M)-2:]\n",
    "nuevoN=inicioM+N\n",
    "nuevoN=nuevoN+finalM\n",
    "print(nuevoN)\n",
    "print(nuevoM)"
   ]
  },
  {
   "cell_type": "markdown",
   "metadata": {},
   "source": [
    "5.Cree un programa en python 3 que solicite por consola un texto M. Posteriormente forme una lista con dicho texto y luego concatene en un solo string todos los elemenos de dicha lista que tengan más de dos carácteres.Finalmente imprima dicho string por pantalla.\n",
    "\n",
    "NOTA1: El mensaje al solicitar las entrada debe ser: \"Ingrese un texto \\n\", tal como aparece entre comillas incluyendo la mayúscula inicial, el espacio y el \"\\n\" después de \"texto\".\n",
    "\n",
    "NOTA2: El programa debe mostrar como resultado exclusivamente lo indicado, no debe contener letras ni enunciados adicionales que lo acompañen."
   ]
  },
  {
   "cell_type": "code",
   "execution_count": 3,
   "metadata": {},
   "outputs": [
    {
     "name": "stdout",
     "output_type": "stream",
     "text": [
      "Ingrese un texto \n",
      "los perros de curro no dejan dormir\n",
      "losperroscurrodejandormir\n"
     ]
    }
   ],
   "source": [
    "M=str(input(\"Ingrese un texto \\n\"))\n",
    "M=M.split()\n",
    "string=\"\"\n",
    "for i in M:\n",
    "    if len(i)>2:\n",
    "        string=string+i\n",
    "print(string)"
   ]
  },
  {
   "cell_type": "markdown",
   "metadata": {},
   "source": [
    "6.Cree un programa en python 3 que solicite por consola un texto M. Posteriormente forme una lista con dicho texto y luego concatene en un solo string todos los elemenos de dicha lista que tengan máximo dos carácteres.Finalmente imprima dicho string por pantalla.\n",
    "\n",
    "NOTA1: El mensaje al solicitar las entrada debe ser: \"Ingrese un texto \\n\", tal como aparece entre comillas incluyendo la mayúscula inicial, el espacio y el \"\\n\" después de \"texto\".\n",
    "\n",
    "NOTA2: El programa debe mostrar como resultado exclusivamente lo indicado, no debe contener letras ni enunciados adicionales que lo acompañen."
   ]
  },
  {
   "cell_type": "code",
   "execution_count": 4,
   "metadata": {},
   "outputs": [
    {
     "name": "stdout",
     "output_type": "stream",
     "text": [
      "Ingrese un texto \n",
      "los perros de curro no dejan dormir pa\n",
      "denopa\n"
     ]
    }
   ],
   "source": [
    "M=str(input(\"Ingrese un texto \\n\"))\n",
    "M=M.split()\n",
    "string=\"\"\n",
    "for i in M:\n",
    "    if len(i)<=2:\n",
    "        string=string+i\n",
    "print(string)"
   ]
  },
  {
   "cell_type": "markdown",
   "metadata": {},
   "source": [
    "7.Cree un programa en python 3 que solicite por consola un texto M. Posteriormente forme una lista con dicho texto y luego cree una matriz, donde cada uno de sus elementos corresponde a una lista que en su primera posición tiene la palabra extraida de la lista formada anteriormente y en segunda posición contiene el numero de caracteres de dicha palabra. Finalmente imprima la matriz.\n",
    "\n",
    "NOTA1: El mensaje al solicitar las entrada debe ser: \"Ingrese un texto \\n\", tal como aparece entre comillas incluyendo la mayúscula inicial, el espacio y el \"\\n\" después de \"texto\".\n",
    "\n",
    "NOTA2: El programa debe mostrar como resultado exclusivamente lo indicado, no debe contener letras ni enunciados adicionales que lo acompañen."
   ]
  },
  {
   "cell_type": "code",
   "execution_count": 6,
   "metadata": {},
   "outputs": [
    {
     "name": "stdout",
     "output_type": "stream",
     "text": [
      "Ingrese un texto \n",
      "hola care culo\n",
      "[['hola', 4], ['care', 4], ['culo', 4]]\n"
     ]
    }
   ],
   "source": [
    "M=str(input(\"Ingrese un texto \\n\"))\n",
    "M=M.split()\n",
    "matriz=[]\n",
    "for i in M:\n",
    "    lista=[i,len(i)]\n",
    "    matriz.append(lista)\n",
    "\n",
    "print(matriz)"
   ]
  },
  {
   "cell_type": "markdown",
   "metadata": {},
   "source": [
    "8.Cree un programa en python 3 que solicite por consola un texto M. Luego, realice la suma de todos los digitos presentes en dicho texto. Finalmente si dicha suma es mayor a 15, imprima \"Mayor\" por pantalla. En caso de que sea igual, imprima por pantalla \"Igual\". En caso contrario, imprima \"Menor\" por pantalla.\n",
    "\n",
    "NOTA1: El mensaje al solicitar las entrada debe ser: \"Ingrese un texto \\n\", tal como aparece entre comillas incluyendo la mayúscula inicial, el espacio y el \"\\n\" después de \"texto\".\n",
    "\n",
    "NOTA2: El programa debe mostrar como resultado exclusivamente lo indicado, no debe contener letras ni enunciados adicionales que lo acompañen."
   ]
  },
  {
   "cell_type": "code",
   "execution_count": 2,
   "metadata": {},
   "outputs": [
    {
     "name": "stdout",
     "output_type": "stream",
     "text": [
      "Ingrese un texto \n",
      "hola3eñores 4 5 holajeje 6\n",
      "Mayor\n"
     ]
    }
   ],
   "source": [
    "M=str(input(\"Ingrese un texto \\n\"))\n",
    "suma=0\n",
    "for i in M:\n",
    "    if i.isdigit():\n",
    "        suma+=int(i)\n",
    "if suma>15:\n",
    "    print(\"Mayor\")\n",
    "elif suma==15:\n",
    "    print(\"Igual\")\n",
    "else: \n",
    "    print(\"Menor\")\n"
   ]
  },
  {
   "cell_type": "markdown",
   "metadata": {},
   "source": [
    "9.Cree un programa en python 3 que solicite por consola un texto M. En dicho texto busque todos los números y reemplacelos por el string \"numero\". También busque la palabra \"hola\" (Puede venir en cualquier presentación \"HolA\",\"HOLA\",\"HOla\"...etc) y reemplacela por \"HOLA\". Finalmente imprima todo el texto en minúscula, excepto las palabras y números modificada/os.\n",
    "\n",
    "NOTA1: El mensaje al solicitar las entrada debe ser: \"Ingrese un texto \\n\", tal como aparece entre comillas incluyendo la mayúscula inicial, el espacio y el \"\\n\" después de \"texto\".\n",
    "\n",
    "NOTA2: El programa debe mostrar como resultado exclusivamente lo indicado, no debe contener letras ni enunciados adicionales que lo acompañen."
   ]
  },
  {
   "cell_type": "code",
   "execution_count": 7,
   "metadata": {},
   "outputs": [
    {
     "name": "stdout",
     "output_type": "stream",
     "text": [
      "Ingrese un texto \n",
      "holA4 5 numero hOla señores hola 4\n",
      "HOLAnumero numero numero HOLA señores HOLA numero\n"
     ]
    }
   ],
   "source": [
    "M=str(input(\"Ingrese un texto \\n\"))\n",
    "M=M.lower()\n",
    "for i in M:\n",
    "    if i.isdigit():\n",
    "        M=M.replace(i,\"numero\")\n",
    "M=M.replace(\"hola\",\"HOLA\")\n",
    "print(M)"
   ]
  },
  {
   "cell_type": "markdown",
   "metadata": {},
   "source": [
    "10.Cree un programa en python 3 que solicite por consola un texto M. En dicho texto busque todos los números y reemplacelos por el string \"numero\". También busque la palabra \"hola\" (Puede venir en cualquier presentación \"HolA\",\"HOLA\",\"HOla\"...etc) y reemplacela por \"chao\". Finalmente imprima todo el texto en mayúscula, excepto las palabras y números modificada/os.\n",
    "\n",
    "NOTA1: El mensaje al solicitar las entrada debe ser: \"Ingrese un texto \\n\", tal como aparece entre comillas incluyendo la mayúscula inicial, el espacio y el \"\\n\" después de \"texto\".\n",
    "\n",
    "NOTA2: El programa debe mostrar como resultado exclusivamente lo indicado, no debe contener letras ni enunciados adicionales que lo acompañen."
   ]
  },
  {
   "cell_type": "code",
   "execution_count": 2,
   "metadata": {},
   "outputs": [
    {
     "name": "stdout",
     "output_type": "stream",
     "text": [
      "Ingrese un texto \n",
      "hola HoLaaa 4 3 Holaa señores chao\n",
      "chao chaoAA numero numero chaoA SEÑORES CHAO\n"
     ]
    }
   ],
   "source": [
    "M=str(input(\"Ingrese un texto \\n\"))\n",
    "M=M.upper()\n",
    "for i in M:\n",
    "    if i.isdigit():\n",
    "        M=M.replace(i,\"numero\")\n",
    "M=M.replace(\"HOLA\",\"chao\")\n",
    "print(M)"
   ]
  },
  {
   "cell_type": "markdown",
   "metadata": {},
   "source": [
    "#dificil\n",
    "1.Un estudiante con altas falencias en ingles, contrata un traductor (ingles-español) barato para ayudarle a traducir unos pronombres y unos numeros ( desde 1 hasta 3) de una tarea del colegio. El estudiante tiene un breve texto en ingles, en el cual solo debe traducir los pronombres I (o puede venir escrito como i), He (o puede venir escrito como hE o cualquier combinación), She (o puede venir escrito como SHe o cualquier combinación) al español (\" yo \", \" el \", \" ella \") y en el caso de los números, debe pasarlos al ingles y escribirlos en mayuscula (Si aparece un 1, entonces seria \" ONE \", 2 es \" TWO \" y así con todos los números). El traductor cobra $200 por cada pronombre que traduza y $100 por cada número que traduzca. Cree un programa en python 3 que solicite un texto M por consola, correspodiente al texto a traducir. Realice las respectivas traducciones de números y pronombres e imprima el texto traducido por pantalla en minúscula, exceptuando los números que quedan en mayusculas. Adicionalmente el programa debe calcular el costo total de la traducción, si dicho costo supera los $1000, también debe imprimir \"Mayor\" por pantalla. En caso contrario, imprima también \"Menor\" por pantalla.\n",
    "\n",
    "NOTA1:Los pronombres y los números nunca están al principio o al final del texto.\n",
    "\n",
    "NOTA2: El mensaje al solicitar las entrada debe ser: \"Ingrese un texto \\n\", tal como aparece entre comillas incluyendo la mayúscula inicial, el espacio y el \"\\n\" después de \"texto\".\n",
    "\n",
    "NOTA3: El programa debe mostrar como resultado exclusivamente lo indicado, no debe contener letras ni enunciados adicionales que lo acompañen."
   ]
  },
  {
   "cell_type": "code",
   "execution_count": 2,
   "metadata": {},
   "outputs": [
    {
     "name": "stdout",
     "output_type": "stream",
     "text": [
      "Ingrese un texto \n",
      "hellow, ShE is Alexa and hE is Guillermo. HE has 2 months work and she is my friend after 3 weeks\n",
      "hellow, ella is alexa and el is guillermo. el has TWO months work and ella is my friend after THREE weeks\n",
      "Menor\n"
     ]
    }
   ],
   "source": [
    "M=str(input(\"Ingrese un texto \\n\"))\n",
    "M=M.lower()\n",
    "contadorshe=M.count(\" she \")\n",
    "contadorhe=M.count(\" he \")\n",
    "contadori=M.count(\" i \")\n",
    "pronombres=contadorshe+contadori+contadorhe\n",
    "M=M.replace(\" she \", \" ella \")\n",
    "M=M.replace(\" he \", \" el \")\n",
    "M=M.replace(\" i \", \" yo \")\n",
    "contador1=M.count(\" 1 \")\n",
    "contador2=M.count(\" 2 \")\n",
    "contador3=M.count(\" 3 \")\n",
    "numeros=contador3+contador1+contador2\n",
    "M=M.replace(\" 1 \", \" ONE \")\n",
    "M=M.replace(\" 2 \", \" TWO \")\n",
    "M=M.replace(\" 3 \", \" THREE \")\n",
    "print(M)\n",
    "costo=(pronombres*200)+(numeros*100)\n",
    "if costo>1000:\n",
    "    print(\"Mayor\")\n",
    "else:\n",
    "    print(\"Menor\")\n"
   ]
  },
  {
   "cell_type": "markdown",
   "metadata": {},
   "source": [
    "2.Cree un programa en python 3 que solicite un texto M por consola. El texto contiene números y letras. El programa debe verificar si la cantidad de numeros es mayor a la cantidad de letras (Tenga en cuenta que un \"290\" cuenta como un solo número y no como 3 números). Si la cantidad de números sí es mayor que la cantidad de letras, realice la sumatoria de todos los numeros e imprima un string que contenga la letra \"a\" tantas veces como lo indique la sumatoria. En caso contrario (Tenga en cuenta que \"Hola\" es una palabra, pero son 4 letras. Además, los espacios no cuentan como letras), imprima en un string todo el texto al reves (de atras para adelante).\n",
    "\n",
    "NOTA1: El mensaje al solicitar las entrada debe ser: \"Ingrese un texto \\n\", tal como aparece entre comillas incluyendo la mayúscula inicial, el espacio y el \"\\n\" después de \"texto\".\n",
    "\n",
    "NOTA2: El programa debe mostrar como resultado exclusivamente lo indicado, no debe contener letras ni enunciados adicionales que lo acompañen."
   ]
  },
  {
   "cell_type": "code",
   "execution_count": 12,
   "metadata": {},
   "outputs": [
    {
     "name": "stdout",
     "output_type": "stream",
     "text": [
      "Ingrese un texto \n",
      "esternocleidomastoideo \n",
      " oediotsamodielconretse\n"
     ]
    }
   ],
   "source": [
    "M=str(input(\"Ingrese un texto \\n\"))\n",
    "lista=M.strip()\n",
    "cantnumeros=0\n",
    "contnumeros=0\n",
    "for i in lista:\n",
    "    if i.isdigit():\n",
    "        cantnumeros+=1\n",
    "        contnumeros+=int(i)\n",
    "cantletras=0\n",
    "for i in M:\n",
    "    if i.isalpha():\n",
    "        cantletras+=1\n",
    "if cantnumeros>cantletras:\n",
    "    string=\"a\"\n",
    "    print(string*contnumeros)\n",
    "else:\n",
    "    size=len(M)-1\n",
    "    nuevostring=\"\"\n",
    "    for i in range(0,len(M)):\n",
    "        nuevostring=nuevostring+M[size]\n",
    "        size-=1\n",
    "    print(nuevostring)\n",
    "        \n",
    "        \n",
    "    "
   ]
  },
  {
   "cell_type": "markdown",
   "metadata": {},
   "source": [
    "3.Cree un programa en python 3 que solicite palabras indeterminadamente hasta que reciba una palabra palindroma (palabra que se lee igual al derecho y al reves. Posteriormente guarde todas las palabras ingresadas (Incluida la palindroma) en una lista. Luego, las palabras que esten en indices pares, las sobreescriba en mayúscula y las que esten en posiciones impares, las sobreescriba con la primera letra en mayuscula. Finalmente, imprima la lista resultante.\n",
    "\n",
    "NOTA1: El mensaje al solicitar las entradas debe ser: \"Ingrese una palabra \\n\", tal como aparece entre comillas incluyendo la mayúscula inicial, el espacio y el \"\\n\" después de \"palabra\".\n",
    "\n",
    "NOTA2: El programa debe mostrar como resultado exclusivamente lo indicado, no debe contener letras ni enunciados adicionales que lo acompañen."
   ]
  },
  {
   "cell_type": "code",
   "execution_count": 3,
   "metadata": {},
   "outputs": [
    {
     "name": "stdout",
     "output_type": "stream",
     "text": [
      "Ingrese una palabra \n",
      "hola\n",
      "Ingrese una palabra \n",
      "estoy\n",
      "Ingrese una palabra \n",
      "caliente\n",
      "Ingrese una palabra \n",
      "perico\n",
      "Ingrese una palabra \n",
      "ala\n",
      "['HOLA', 'Estoy', 'CALIENTE', 'Perico', 'ALA']\n"
     ]
    }
   ],
   "source": [
    "lista=[]\n",
    "while(True):\n",
    "    palabra=str(input(\"Ingrese una palabra \\n\"))\n",
    "    lista.append(palabra)\n",
    "    size=len(palabra)-1\n",
    "    k=0\n",
    "    cont=0\n",
    "    for i in range(0,len(palabra)):\n",
    "        if palabra[k]==palabra[size]:\n",
    "            cont+=1\n",
    "        size-=1\n",
    "        k+=1\n",
    "    if cont==len(palabra):\n",
    "        break\n",
    "i=0\n",
    "for palabra in lista:\n",
    "    if i%2==0:\n",
    "        lista[i]=palabra.upper()\n",
    "    else:\n",
    "        lista[i]=palabra.capitalize()\n",
    "    i+=1\n",
    "print(lista)\n",
    "        "
   ]
  },
  {
   "cell_type": "markdown",
   "metadata": {},
   "source": [
    "4.Cree un programa en python 3 que sea capaz de determinar si una contraseña es segura o no. Para que una contraseña sea segura, debe cumplir una serie de condiciones. Debe tener más de 6 caracteres. No debe contener la palabra \"Colombia\" o cualquier combinación de caracteres que formen dicha palabra como \"CoLoMBia\", \"COLOMBIA\", etc. Debe contener obligatoriamente un \"*\" seguido inmediatamente de un \"!\" o viceversa. No puede terminar en un número. Debe contener más de 3 números. La contraseña debe cumplir todas las condiciones para ser segura. En caso de ser segura, imprima por pantalla \"Segura\", en caso contrario, imprima por pantalla \"No segura\".\n",
    "\n",
    "NOTA1: El mensaje al solicitar las entradas debe ser: \"Ingrese una contrasena \\n\", tal como aparece entre comillas incluyendo la mayúscula inicial, el espacio y el \"\\n\" después de \"contrasena\".\n",
    "\n",
    "NOTA2: El programa debe mostrar como resultado exclusivamente lo indicado, no debe contener letras ni enunciados adicionales que lo acompañen.\n"
   ]
  },
  {
   "cell_type": "code",
   "execution_count": 9,
   "metadata": {},
   "outputs": [
    {
     "name": "stdout",
     "output_type": "stream",
     "text": [
      "Ingrese una contrasena \n",
      "hola*!hola!*2345h\n",
      "Segura\n"
     ]
    }
   ],
   "source": [
    "contrasena=str(input(\"Ingrese una contrasena \\n\"))\n",
    "if len(contrasena)>6:\n",
    "    aux=contrasena.lower()\n",
    "    cantidad=aux.count(\"colombia\")\n",
    "    if cantidad==0:\n",
    "        if contrasena.count(\"*\")>0 and contrasena.count(\"!\")>0:\n",
    "            posicion=contrasena.find(\"*\")\n",
    "            if contrasena[posicion-1]==\"!\" or contrasena[posicion+1]==\"!\":\n",
    "                if contrasena[len(contrasena)-1].isdigit()==False:\n",
    "                    cont=0\n",
    "                    for i in contrasena:\n",
    "                        if i.isdigit():\n",
    "                            cont+=1\n",
    "                    if cont>3:\n",
    "                        print(\"Segura\")\n",
    "                    else:\n",
    "                        print(\"No segura\")\n",
    "                    \n",
    "                else:\n",
    "                    print(\"No segura\")\n",
    "            \n",
    "            else:\n",
    "                print(\"No segura\")\n",
    "            \n",
    "        else:\n",
    "            print(\"No segura\")\n",
    "    \n",
    "    else:\n",
    "        print(\"No segura\")\n",
    "    \n",
    "else:\n",
    "    print(\"No segura\")"
   ]
  },
  {
   "cell_type": "markdown",
   "metadata": {},
   "source": [
    "5.Cree un programa en python 3 que solicite dos strings N,M por consola. El string N corresponde a un texto y el string M corresponde a una palabra. El programa debe buscar la palabra M dentro del string N. Si la palabra M no se encuentra dentro del texto, se debe imprimir por pantalla el texto al reves en mayúscula (de atras hacia adelante). Si la palabra M si se encuentra dentro del texto, se debe imprimir por pantalla la palabra que este inmediatamente despues de esta con la primera letra en mayúscula.\n",
    "\n",
    "NOTA1: El mensaje al solicitar las entradas debe ser: \"Ingrese un string \\n\", tal como aparece entre comillas incluyendo la mayúscula inicial, el espacio y el \"\\n\" después de \"string\".\n",
    "\n",
    "NOTA2: El programa debe mostrar como resultado exclusivamente lo indicado, no debe contener letras ni enunciados adicionales que lo acompañen.\n"
   ]
  },
  {
   "cell_type": "code",
   "execution_count": 15,
   "metadata": {},
   "outputs": [
    {
     "name": "stdout",
     "output_type": "stream",
     "text": [
      "Ingrese un string \n",
      "hola loco estoy yo\n",
      "Ingrese un string \n",
      "carro\n",
      "OY YOTSE OCOL ALOH\n"
     ]
    }
   ],
   "source": [
    "N=str(input(\"Ingrese un string \\n\"))\n",
    "M=str(input(\"Ingrese un string \\n\"))\n",
    "\n",
    "cantidad=N.count(M)\n",
    "if cantidad >0:\n",
    "    lista=N.split()\n",
    "    i=0\n",
    "    for j in lista:\n",
    "        if j==M:\n",
    "            print(lista[i+1].capitalize())\n",
    "            break\n",
    "        i+=1\n",
    "else:\n",
    "    size=len(N)-1\n",
    "    nuevo=\"\"\n",
    "    for i in range(0,len(N)):\n",
    "        nuevo=nuevo+N[size]\n",
    "        size-=1\n",
    "    print(nuevo.upper())\n"
   ]
  },
  {
   "cell_type": "markdown",
   "metadata": {},
   "source": [
    "#medio\n",
    "6.Cree un programa en python 3 que solicite 2 strings por consola M,N. El string M corresponde a un texto y el string N corresponde a una letra. El programa debe buscar cuantas veces aparece la letra N (respetando mayúsculas y minúsculas) en el texto M. Si la cantidad de apariciones es un número par, reemplace la letra por un numero 5. Si la cantidad de apariciones es un número impar, reemplace cada aparición de la letra por el número total de apariciones. Finalmente imprima todo el texto modificado por pantalla. En caso de que no se encuentren apariciones de la letra, imprima todo el texto M al reves (De atras hacia adelante). "
   ]
  },
  {
   "cell_type": "code",
   "execution_count": 3,
   "metadata": {},
   "outputs": [
    {
     "name": "stdout",
     "output_type": "stream",
     "text": [
      "Ingrese un string \n",
      "hola a todos ja\n",
      "Ingrese un string \n",
      "a\n",
      "hol3 3 todos j3\n"
     ]
    }
   ],
   "source": [
    "\n",
    "M=str(input(\"Ingrese un string \\n\"))\n",
    "N=str(input(\"Ingrese un string \\n\"))\n",
    "apariciones=M.count(N)\n",
    "if apariciones==0:\n",
    "    \n",
    "    size=len(M)-1\n",
    "    nuevo=\"\"\n",
    "    for i in range(0,len(M)):\n",
    "        nuevo+=M[size]\n",
    "        size-=1\n",
    "    print(nuevo)\n",
    "\n",
    "elif apariciones%2==0:\n",
    "    M=M.replace(N,\"5\")\n",
    "    print(M)\n",
    "elif apariciones %2!=0:\n",
    "    M=M.replace(N,str(apariciones))\n",
    "    print(M)\n",
    "    \n",
    "\n",
    "\n",
    "\n"
   ]
  },
  {
   "cell_type": "markdown",
   "metadata": {},
   "source": [
    "7.Cree un programa en python 3 que solicite como strings numeros enteros indeterminadamente hasta que reciba un número capicua (Número que se lee igual al derecho y al reves). Posteriormente guarde todos los núemeros ingresados (Incluido el capicua) en una lista. Luego, los numeros que esten en indices pares, los concatene 2 veces con ellos mismos y los que esten en posiciones impares, los sobreescriba dejando solo su primer dígito. Finalmente imprima la lista resultante\n",
    "\n",
    "NOTA1: El mensaje al solicitar las entradas debe ser: \"Ingrese un numero entero \\n\", tal como aparece entre comillas incluyendo la mayúscula inicial, el espacio y el \"\\n\" después de \"entero\".\n",
    "\n",
    "NOTA2: El programa debe mostrar como resultado exclusivamente lo indicado, no debe contener letras ni enunciados adicionales que lo acompañen."
   ]
  },
  {
   "cell_type": "code",
   "execution_count": 6,
   "metadata": {},
   "outputs": [
    {
     "name": "stdout",
     "output_type": "stream",
     "text": [
      "Ingrese un numero entero \n",
      "34\n",
      "Ingrese un numero entero \n",
      "54\n",
      "Ingrese un numero entero \n",
      "67\n",
      "Ingrese un numero entero \n",
      "86\n",
      "Ingrese un numero entero \n",
      "3445\n",
      "Ingrese un numero entero \n",
      "22\n",
      "['3434', '5', '6767', '8', '34453445', '2']\n"
     ]
    }
   ],
   "source": [
    "lista=[]\n",
    "while(True):\n",
    "    num=str(input(\"Ingrese un numero entero \\n\"))\n",
    "    lista.append(num)\n",
    "    size=len(num)-1\n",
    "    k=0\n",
    "    cont=0\n",
    "    for i in range(0,len(num)):\n",
    "        if num[k]==num[size]:\n",
    "            cont+=1\n",
    "        size-=1\n",
    "        k+=1\n",
    "    if cont==len(num):\n",
    "        break\n",
    "i=0\n",
    "for item in lista:\n",
    "    if i%2==0:\n",
    "        lista[i]=item+item\n",
    "    else:\n",
    "        lista[i]=item[0]\n",
    "    i+=1\n",
    "print(lista)"
   ]
  },
  {
   "cell_type": "markdown",
   "metadata": {},
   "source": [
    "8.Cree un programa en python 3 que solicite por consola una lista N y un string M. La lista corresponde a los datos de una persona, teniendo en su primera posición el nombre, en la segunda su cédula y en la tercera su país de origen. El string M corresponde a una contraseña personal, de la cual se debe analizar su seguridad. Para que la contraseña sea segura, debe tener más de 6 caracteres. El nombre de la persona (Sea en mayuscula, minuscula o combinadas), no puede aparecer en ella. Su numero de cedula tampoco debe aparecer en ella. Su país de origen tampoco debe aparecer en ella (Sea en mayuscula, minuscula o combinadas). Todas las condiciones de seguridad deben cumplirse para que la contraseña sea segura. Imprima por pantalla \"Segura\" o \"No segura\" según sea el caso.\n",
    "\n",
    "NOTA1: El mensaje al solicitar las entradas debe ser: \"Ingrese una lista \\n\", \"Ingrese un string \\n\" tal como aparece entre comillas incluyendo la mayúscula inicial, el espacio y el \"\\n\" después de \"lista\", \"string\".\n",
    "\n",
    "NOTA2: El programa debe mostrar como resultado exclusivamente lo indicado, no debe contener letras ni enunciados adicionales que lo acompañen."
   ]
  },
  {
   "cell_type": "code",
   "execution_count": null,
   "metadata": {},
   "outputs": [
    {
     "name": "stdout",
     "output_type": "stream",
     "text": [
      "Ingrese una lista \n",
      "[\"Daniel\",1234,\"coLOMBIA\"]\n",
      "Ingrese un string \n",
      "danIel594colo\n"
     ]
    }
   ],
   "source": [
    "N=eval(input(\"Ingrese una lista \\n\"))\n",
    "M=str(input(\"Ingrese un string \\n\"))\n",
    "if len(M)>6:\n",
    "    nombre=N[0].lower()\n",
    "    aux=M.lower()\n",
    "    if aux.count(nombre)==0:\n",
    "        if aux.count(str(N[1]))==0:\n",
    "            pais=N[2].lower()\n",
    "            if aux.count(pais)==0:\n",
    "                print(\"Segura\")\n",
    "            else:\n",
    "                print(\"No segura\")\n",
    "            \n",
    "        else:\n",
    "            print(\"No segura\")\n",
    "        \n",
    "    \n",
    "    else:\n",
    "        print(\"No segura\")\n",
    "            \n",
    "    \n",
    "else:\n",
    "    print(\"No segura\")\n"
   ]
  },
  {
   "cell_type": "markdown",
   "metadata": {},
   "source": [
    "#facil\n",
    "1.Cree un programa en python 3 que solicite un texto M por consola, posteriormente verifique si en dicho texto, estan presentes todas las vocales del alfabeto. En caso de que todas las vocales esten presentes (sea en mayúscula o en minúscula), imprima por pantalla \"Si\", en caso contrario imprima por pantalla \"No\".\n",
    "\n",
    "NOTA1: El mensaje al solicitar las entradas debe ser: \"Ingrese un texto \\n\", tal como aparece entre comillas incluyendo la mayúscula inicial, el espacio y el \"\\n\" después de \"texto\".\n",
    "\n",
    "NOTA2: El programa debe mostrar como resultado exclusivamente lo indicado, no debe contener letras ni enunciados adicionales que lo acompañen."
   ]
  },
  {
   "cell_type": "code",
   "execution_count": 3,
   "metadata": {},
   "outputs": [
    {
     "name": "stdout",
     "output_type": "stream",
     "text": [
      "Ingrese un texto \n",
      "aeiou\n",
      "Si\n"
     ]
    }
   ],
   "source": [
    "M=str(input(\"Ingrese un texto \\n\"))\n",
    "M=M.lower()\n",
    "if (M.count(\"a\")>0 and M.count(\"e\")>0 and M.count(\"i\")>0 and M.count(\"o\")>0 and M.count(\"u\")>0):\n",
    "    print(\"Si\")\n",
    "else:\n",
    "    print(\"No\")"
   ]
  },
  {
   "cell_type": "markdown",
   "metadata": {},
   "source": [
    "2.Cree un programa en python 3 que solicite un texto M por consola, posteriormente imprima 5 listas, cada lista debe contener una vocal (en mayúscula) en su primera posición y en segunda posición la cantidad de veces que aparece dicha vocal (sea en mayúscula o en minúscula en el texto M. La listad deben salir en el orden (a,e,i,o,u).\n",
    "\n",
    "NOTA1: El mensaje al solicitar las entradas debe ser: \"Ingrese un texto \\n\", tal como aparece entre comillas incluyendo la mayúscula inicial, el espacio y el \"\\n\" después de \"texto\".\n",
    "\n",
    "NOTA2: El programa debe mostrar como resultado exclusivamente lo indicado, no debe contener letras ni enunciados adicionales que lo acompañen.\n"
   ]
  },
  {
   "cell_type": "code",
   "execution_count": 4,
   "metadata": {},
   "outputs": [
    {
     "name": "stdout",
     "output_type": "stream",
     "text": [
      "Ingrese un texto \n",
      "CuandO nos volvamOs a EncontrAr\n",
      "['A', 4]\n",
      "['E', 1]\n",
      "['I', 0]\n",
      "['O', 5]\n",
      "['U', 1]\n"
     ]
    }
   ],
   "source": [
    "M=str(input(\"Ingrese un texto \\n\"))\n",
    "M=M.lower()\n",
    "lista=[\"a\",\"e\",\"i\",\"o\",\"u\"]\n",
    "for i in lista:\n",
    "    imprima=[i.upper(),M.count(i)]\n",
    "    print(imprima)"
   ]
  },
  {
   "cell_type": "markdown",
   "metadata": {},
   "source": [
    "#medio\n",
    "3.Cree un programa en python 3 que solicite un texto M por consola, posteriormente verifique si en dicho texto (En el texto no vienen flotantes), estan presentes todos los numeros entre 1 y 5 (incluidos ambos extremos). En caso de que todos los numeros estén presentes, realice la sumatoria de estos e imprimala por pantalla. En caso contrario, imprima el número entero 0 por pantalla. La sumatoria impresa debe ser un entero.\n",
    "\n",
    "NOTA1: El mensaje al solicitar las entradas debe ser: \"Ingrese un texto \\n\", tal como aparece entre comillas incluyendo la mayúscula inicial, el espacio y el \"\\n\" después de \"texto\".\n",
    "\n",
    "NOTA2: El programa debe mostrar como resultado exclusivamente lo indicado, no debe contener letras ni enunciados adicionales que lo acompañen."
   ]
  },
  {
   "cell_type": "code",
   "execution_count": 8,
   "metadata": {},
   "outputs": [
    {
     "name": "stdout",
     "output_type": "stream",
     "text": [
      "Ingrese un texto \n",
      "caroo 1 2 3 4 5 6 7 8 2 3\n",
      "20\n"
     ]
    }
   ],
   "source": [
    "M=str(input(\"Ingrese un texto \\n\"))\n",
    "validador=\"\"\n",
    "listasola=[]\n",
    "listatotal=[]\n",
    "sumatoria=0\n",
    "for i in M:\n",
    "    if i.isdigit():\n",
    "        if (int(i)>0 and int(i)<6):\n",
    "            listatotal.append(int(i))\n",
    "            if int(i) not in listasola:\n",
    "                listasola.append(int(i))\n",
    "if len(listasola)==5:\n",
    "    print(sum(listatotal))\n",
    "else:\n",
    "    print(0)\n",
    "        \n",
    "\n",
    "        "
   ]
  },
  {
   "cell_type": "markdown",
   "metadata": {},
   "source": [
    "#medio\n",
    "4.Cree un programa en python 3 que solicite un texto M por consola, posteriormente imprima una lista que contenga en primera posición la vocal (En mayúscula) del alfabeto que más veces aparece en el texto (Sea en mayúscula o en minúscula) y en segunda posición la cantidad de veces que aparece. En caso de haber dos vocales con igual cantidad maxima de apariciones, imprima la lista correspondiente a la que primero este en el orden (\"a\",\"e\",\"i\",\"o\",\"u\"). El número de apariciones debe ser un número entero.\n",
    "\n",
    "NOTA1: El mensaje al solicitar las entradas debe ser: \"Ingrese un texto \\n\", tal como aparece entre comillas incluyendo la mayúscula inicial, el espacio y el \"\\n\" después de \"texto\".\n",
    "\n",
    "NOTA2: El programa debe mostrar como resultado exclusivamente lo indicado, no debe contener letras ni enunciados adicionales que lo acompañen."
   ]
  },
  {
   "cell_type": "code",
   "execution_count": 4,
   "metadata": {},
   "outputs": [
    {
     "name": "stdout",
     "output_type": "stream",
     "text": [
      "Ingrese un texto \n",
      "AaaA OooO ee ii uu\n",
      "['A', 4]\n"
     ]
    }
   ],
   "source": [
    "M=str(input(\"Ingrese un texto \\n\"))\n",
    "M=M.lower()\n",
    "lista=[]\n",
    "lista.append(M.count(\"a\"))\n",
    "lista.append(M.count(\"e\"))\n",
    "lista.append(M.count(\"i\"))\n",
    "lista.append(M.count(\"o\"))\n",
    "lista.append(M.count(\"u\"))\n",
    "indice=lista.index(max(lista))\n",
    "if indice==0:\n",
    "    print([\"A\",max(lista)])\n",
    "elif indice==1:\n",
    "    print([\"E\",max(lista)])\n",
    "elif indice==2:\n",
    "    print([\"I\",max(lista)])\n",
    "elif indice==3:\n",
    "    print([\"O\",max(lista)])\n",
    "else:\n",
    "    \n",
    "    print([\"U\",max(lista)])"
   ]
  },
  {
   "cell_type": "markdown",
   "metadata": {},
   "source": [
    "#facil\n",
    "5.Cree un programa en python 3 que solicite por consola un texto M, el cual contiene un día de la semana en su interior. La persona que envía los textos, le gusta mezclar mayúsculas y minúsculas en sus escritos, entonces podría haber (o no) un SabaDO, SaBAdO, etc... en cualquier día de la semana. El programa debe buscar el día de la semana que esta escrito en el texto e imprimirlo por pantalla, bien escrito con la primera letra en mayúscula y el resto en minúscula).\n",
    "\n",
    "NOTA1: El mensaje al solicitar las entradas debe ser: \"Ingrese un texto \\n\", tal como aparece entre comillas incluyendo la mayúscula inicial, el espacio y el \"\\n\" después de \"texto\".\n",
    "\n",
    "NOTA2: El programa debe mostrar como resultado exclusivamente lo indicado, no debe contener letras ni enunciados adicionales que lo acompañen."
   ]
  },
  {
   "cell_type": "code",
   "execution_count": 5,
   "metadata": {},
   "outputs": [
    {
     "name": "stdout",
     "output_type": "stream",
     "text": [
      "Ingrese un texto \n",
      "hola el SabAdO nos vemos todos\n",
      "Sabado\n"
     ]
    }
   ],
   "source": [
    "M=str(input(\"Ingrese un texto \\n\"))\n",
    "M=M.lower()\n",
    "if M.count(\"lunes\"):\n",
    "    print(\"Lunes\")\n",
    "if M.count(\"martes\"):\n",
    "    print(\"Martes\")\n",
    "if M.count(\"miercoles\"):\n",
    "    print(\"Miercoles\")\n",
    "if M.count(\"jueves\"):\n",
    "    print(\"Jueves\")\n",
    "if M.count(\"viernes\"):\n",
    "    print(\"Viernes\")\n",
    "if M.count(\"sabado\"):\n",
    "    print(\"Sabado\")\n",
    "if M.count(\"domingo\"):\n",
    "    print(\"Domingo\")\n"
   ]
  },
  {
   "cell_type": "markdown",
   "metadata": {},
   "source": [
    "#facil\n",
    "6.Cree un programa en python 3 que solicite por consola un texto M. Dicho texto representa una extraña contraseña de un wifi que curiosamente no puede contener ni un solo número entre sus caracteres. El programa debe verificar que efectivamente la contraseña no contenga ningún número. En caso de que no contenga, imprima \"Valida\" por pantalla, en caso contrario, imprima \"No valida\".\n",
    "\n",
    "NOTA1: El mensaje al solicitar las entradas debe ser: \"Ingrese un texto \\n\", tal como aparece entre comillas incluyendo la mayúscula inicial, el espacio y el \"\\n\" después de \"texto\".\n",
    "\n",
    "NOTA2: El programa debe mostrar como resultado exclusivamente lo indicado, no debe contener letras ni enunciados adicionales que lo acompañen."
   ]
  },
  {
   "cell_type": "code",
   "execution_count": 2,
   "metadata": {},
   "outputs": [
    {
     "name": "stdout",
     "output_type": "stream",
     "text": [
      "Ingrese un texto \n",
      "hola2\n",
      "No valida\n"
     ]
    }
   ],
   "source": [
    "M=str(input(\"Ingrese un texto \\n\"))\n",
    "cont=0\n",
    "for i in M:\n",
    "    if i.isdigit():\n",
    "        cont+=1\n",
    "if cont==0:\n",
    "    print(\"Valida\")\n",
    "else:\n",
    "    print(\"No valida\")"
   ]
  },
  {
   "cell_type": "markdown",
   "metadata": {},
   "source": [
    "7.Cree un programa en python 3 que solicite un texto M por consola. Posteriormente, tomar cada palabra de dicho texto e ingresarlas en una lista de la siguiente forma. Las palabras que estén en indices pares, con la primera letra en mayúscula. Las palabras que estén en indices en impares, deben escribirse al reves. Posteriormente imprima por pantalla la lista con todas las palabras.\n",
    "\n",
    "NOTA1: El mensaje al solicitar las entradas debe ser: \"Ingrese un texto \\n\", tal como aparece entre comillas incluyendo la mayúscula inicial, el espacio y el \"\\n\" después de \"texto\".\n",
    "\n",
    "NOTA2: El programa debe mostrar como resultado exclusivamente lo indicado, no debe contener letras ni enunciados adicionales que lo acompañen."
   ]
  },
  {
   "cell_type": "code",
   "execution_count": 6,
   "metadata": {},
   "outputs": [
    {
     "name": "stdout",
     "output_type": "stream",
     "text": [
      "Ingrese un texto \n",
      "Yo quiero saltar\n",
      "['Yo', 'oreiuq', 'Saltar']\n"
     ]
    }
   ],
   "source": [
    "M=str(input(\"Ingrese un texto \\n\"))\n",
    "M=M.split()\n",
    "lista=[]\n",
    "contador=0\n",
    "for palabra in M:\n",
    "    if contador%2==0:\n",
    "        lista.append(palabra.capitalize())\n",
    "    else:\n",
    "        size=len(palabra)-1\n",
    "        nueva=\"\"\n",
    "        for i in range(0,len(palabra)):\n",
    "            nueva=nueva+palabra[size]\n",
    "            \n",
    "            size-=1\n",
    "        lista.append(nueva)\n",
    "    contador+=1\n",
    "print(lista)"
   ]
  },
  {
   "cell_type": "markdown",
   "metadata": {},
   "source": [
    "8.Cree un programa en python 3 que solicite un texto M y una vocal N por consola. Posteriormente compare si la cantidad de vocales N mayúsculas es mayor que la cantidad de vocales N minúsculas. En caso de haber más mayúsculas, imprima por pantalla el texto en mayúscula. En caso de haber más minúsculas, imprima por pantalla el texto en minúscula. En caso contrario, imprima el texto con la primera letra en mayúscula.\n",
    "\n",
    "NOTA1: El mensaje al solicitar las entradas debe ser: \"Ingrese un texto \\n\", \"Ingrese una vocal \\n\", tal como aparece entre comillas incluyendo la mayúscula inicial, el espacio y el \"\\n\" después de \"texto\",\"vocal\".\n",
    "\n",
    "NOTA2: El programa debe mostrar como resultado exclusivamente lo indicado, no debe contener letras ni enunciados adicionales que lo acompañen.\n"
   ]
  },
  {
   "cell_type": "code",
   "execution_count": 7,
   "metadata": {},
   "outputs": [
    {
     "name": "stdout",
     "output_type": "stream",
     "text": [
      "Ingrese un texto \n",
      "hOla a Todos O\n",
      "Ingrese una vocal \n",
      "O\n",
      "Hola a todos o\n"
     ]
    }
   ],
   "source": [
    "M=str(input(\"Ingrese un texto \\n\"))\n",
    "N=str(input(\"Ingrese una vocal \\n\"))\n",
    "N=N.lower()\n",
    "mayuscula=M.count(N.upper())\n",
    "minuscula=M.count(N)\n",
    "if mayuscula>minuscula:\n",
    "    print(M.upper())\n",
    "elif minuscula>mayuscula:\n",
    "    print(M.lower())\n",
    "else:\n",
    "    print(M.capitalize())"
   ]
  },
  {
   "cell_type": "markdown",
   "metadata": {},
   "source": []
  },
  {
   "cell_type": "markdown",
   "metadata": {},
   "source": [
    "9.Cree un programa en python 3 que solicite por consola un texto M. De dicho texto extraiga las palabras que tengan al menos un digito (ejemplo:\"Hola2\") y las imprima por pantalla.\n",
    "\n",
    "NOTA1: El mensaje al solicitar las entradas debe ser: \"Ingrese un texto \\n\", tal como aparece entre comillas incluyendo la mayúscula inicial, el espacio y el \"\\n\" después de \"texto\".\n",
    "\n",
    "NOTA2: El programa debe mostrar como resultado exclusivamente lo indicado, no debe contener letras ni enunciados adicionales que lo acompañen."
   ]
  },
  {
   "cell_type": "code",
   "execution_count": 3,
   "metadata": {},
   "outputs": [
    {
     "name": "stdout",
     "output_type": "stream",
     "text": [
      "Ingrese un texto \n",
      "yo quiero bailar3 cantar y altar6 7\n",
      "bailar3\n",
      "altar6\n",
      "7\n"
     ]
    }
   ],
   "source": [
    "M=str(input(\"Ingrese un texto \\n\"))\n",
    "lista=M.split()\n",
    "for palabra in lista:\n",
    "    for caracter in palabra:\n",
    "        if caracter.isdigit():\n",
    "            print(palabra)\n",
    "            break"
   ]
  },
  {
   "cell_type": "code",
   "execution_count": null,
   "metadata": {},
   "outputs": [],
   "source": []
  }
 ],
 "metadata": {
  "kernelspec": {
   "display_name": "Python 3",
   "language": "python",
   "name": "python3"
  },
  "language_info": {
   "codemirror_mode": {
    "name": "ipython",
    "version": 3
   },
   "file_extension": ".py",
   "mimetype": "text/x-python",
   "name": "python",
   "nbconvert_exporter": "python",
   "pygments_lexer": "ipython3",
   "version": "3.6.6"
  }
 },
 "nbformat": 4,
 "nbformat_minor": 2
}
