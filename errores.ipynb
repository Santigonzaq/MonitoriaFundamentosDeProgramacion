{
 "cells": [
  {
   "cell_type": "markdown",
   "metadata": {},
   "source": [
    "Manejo de errores.\n",
    "facil.\n",
    "\n",
    "1.Cree un programa en python 3 que solicite una lista M de números enteros por consola. Posteriormente, usando el manejo de errores, imprima el número que esta en la cuarta posición. En caso de que dicha posición no exista el error que se debe mostar por pantalla es \"Indice no existe\".\n",
    "\n",
    "NOTA1: El mensaje al solicitar la entrada debe ser: \"Ingrese una lista \\n\", tal como aparece entre comillas incluyendo la mayúscula inicial, el espacio y el \"\\n\" después de \"lista\".\n",
    "\n",
    "NOTA2: El programa debe mostrar como resultado exclusivamente lo indicado, no debe contener letras ni enunciados adicionales que lo acompañen.\n"
   ]
  },
  {
   "cell_type": "code",
   "execution_count": 3,
   "metadata": {},
   "outputs": [
    {
     "name": "stdout",
     "output_type": "stream",
     "text": [
      "Ingrese una lista \n",
      "[1,2,3,4]\n",
      "4\n"
     ]
    }
   ],
   "source": [
    "M=eval(input(\"Ingrese una lista \\n\"))\n",
    "try:\n",
    "    print(M[3])\n",
    "except IndexError:\n",
    "    print(\"Indice no existe\")"
   ]
  },
  {
   "cell_type": "markdown",
   "metadata": {},
   "source": [
    "2.Cree un programa en python 3 que solicite dos enteros M,N por consola y los use en el siguiente ejercicio. Usando el manejo de errores, muestre por pantalla la division entera de M entre N. En caso de N ser 0, muestre el error \"No se puede dividir por cero\" y el valor de M.\n",
    "\n",
    "NOTA1: El mensaje al solicitar las entradas debe ser: \"Ingrese un numero entero \\n\", tal como aparece entre comillas incluyendo la mayúscula inicial, el espacio y el \"\\n\" después de \"entero\".\n",
    "\n",
    "NOTA2: El programa debe mostrar como resultado exclusivamente lo indicado, no debe contener letras ni enunciados adicionales que lo acompañen.\n"
   ]
  },
  {
   "cell_type": "code",
   "execution_count": 4,
   "metadata": {},
   "outputs": [
    {
     "name": "stdout",
     "output_type": "stream",
     "text": [
      "Ingrese un numero entero \n",
      "4\n",
      "Ingrese un numero entero \n",
      "0\n",
      "No se puede dividir por cero\n",
      "4\n"
     ]
    }
   ],
   "source": [
    "M=int(input(\"Ingrese un numero entero \\n\"))\n",
    "N=int(input(\"Ingrese un numero entero \\n\"))\n",
    "\n",
    "try:\n",
    "    print(M//N)\n",
    "except ZeroDivisionError:\n",
    "    print(\"No se puede dividir por cero\")\n",
    "    print(M)\n",
    "    "
   ]
  },
  {
   "cell_type": "markdown",
   "metadata": {},
   "source": [
    "## "
   ]
  },
  {
   "cell_type": "markdown",
   "metadata": {},
   "source": [
    "3.Cree un programa en python 3 que solicite por consola dos variables M,N (Pueden ser números o texto. N nunca será cero). Posteriormente, usando el manejo de errores, imprima por pantalla la división entera de M/N. En caso de que alguno o ambos sean texto mostrar el mensaje de error \"No se puede operar con texto\".\n",
    "\n",
    "NOTA1: El mensaje al solicitar las entradas debe ser: \"Ingrese un valor \\n\", tal como aparece entre comillas incluyendo la mayúscula inicial, el espacio y el \"\\n\" después de \"entero\".\n",
    "\n",
    "NOTA2: El programa debe mostrar como resultado exclusivamente lo indicado, no debe contener letras ni enunciados adicionales que lo acompañen."
   ]
  },
  {
   "cell_type": "code",
   "execution_count": 5,
   "metadata": {},
   "outputs": [
    {
     "name": "stdout",
     "output_type": "stream",
     "text": [
      "Ingrese un valor \n",
      "\"a\"\n",
      "Ingrese un valor \n",
      "\"b\"\n",
      "No se puede operar con texto\n"
     ]
    }
   ],
   "source": [
    "M=eval(input(\"Ingrese un valor \\n\"))\n",
    "N=eval(input(\"Ingrese un valor \\n\"))\n",
    "try:\n",
    "    print(M//N)\n",
    "except TypeError:\n",
    "    print(\"No se puede operar con texto\")"
   ]
  },
  {
   "cell_type": "markdown",
   "metadata": {},
   "source": [
    "#medio.\n",
    "4.Cree un programa en python 3 que solicite por consola un entero M y una lista N. Posteriormente, usando el manejor de errores imprima sucesivamente por pantalla la división entera de cada uno de los elementos de la lista N entre el entero M. En caso de que el elemento de N sea un string, el mensaje de error que se debe mostrar es \"No valido\". En caso de que haya alguna división por cero, el mensaje de error debe ser \"No se puede dividir por cero\".\n",
    "\n",
    "NOTA1: El mensaje al solicitar las entradas debe ser: \"Ingrese un numero entero \\n\", \"Ingrese una lista \\n\" tal como aparece entre comillas incluyendo la mayúscula inicial, el espacio y el \"\\n\" después de \"entero\", \"lista.\n",
    "\n",
    "NOTA2: El programa debe mostrar como resultado exclusivamente lo indicado, no debe contener letras ni enunciados adicionales que lo acompañen."
   ]
  },
  {
   "cell_type": "code",
   "execution_count": 4,
   "metadata": {},
   "outputs": [
    {
     "name": "stdout",
     "output_type": "stream",
     "text": [
      "Ingrese un numero entero \n",
      "3\n",
      "Ingrese una lista \n",
      "[3,4,0,\"hola\"]\n",
      "1\n",
      "1\n",
      "0\n",
      "No valido\n"
     ]
    }
   ],
   "source": [
    "M=int(input(\"Ingrese un numero entero \\n\"))\n",
    "N=eval(input(\"Ingrese una lista \\n\"))\n",
    "for i in N:\n",
    "    try:\n",
    "        print(i//M)\n",
    "    except ZeroDivisionError:\n",
    "        print(\"No se puede dividir por cero\")\n",
    "    except TypeError:\n",
    "        print(\"No valido\")\n",
    "    "
   ]
  },
  {
   "cell_type": "markdown",
   "metadata": {},
   "source": [
    "5.Cree un programa en python 3 que solicite por consola un entero M y una lista N. Posteriormente, usando el manejo de errores, imprima sucesivamente por pantalla el resultado de elevar cada uno de los elemento de N al número M. En caso de que el elemento de N sea un string, el mensaje de error que se debe mostrar es \"No valido\" e imprimir el valor de el elemento de N.\n",
    "\n",
    "NOTA1: El mensaje al solicitar las entradas debe ser: \"Ingrese un numero entero \\n\", \"Ingrese una lista \\n\" tal como aparece entre comillas incluyendo la mayúscula inicial, el espacio y el \"\\n\" después de \"entero\", \"lista.\n",
    "\n",
    "NOTA2: El programa debe mostrar como resultado exclusivamente lo indicado, no debe contener letras ni enunciados adicionales que lo acompañen."
   ]
  },
  {
   "cell_type": "code",
   "execution_count": 1,
   "metadata": {},
   "outputs": [
    {
     "name": "stdout",
     "output_type": "stream",
     "text": [
      "Ingrese un numero entero \n",
      "2\n",
      "Ingrese una lista \n",
      "[2,3,4,\"hola\"]\n",
      "4\n",
      "9\n",
      "16\n",
      "No valido\n",
      "hola\n"
     ]
    }
   ],
   "source": [
    "M=int(input(\"Ingrese un numero entero \\n\"))\n",
    "N=eval(input(\"Ingrese una lista \\n\"))\n",
    "for i in N:\n",
    "    try:\n",
    "        print(i**M)\n",
    "    except TypeError:\n",
    "        print(\"No valido\")\n",
    "        print(i)\n",
    "    "
   ]
  },
  {
   "cell_type": "markdown",
   "metadata": {},
   "source": [
    "6.Cree un programa en python 3 que solicite un entero W. posteriormente, solicite dos enteros M,N tantas veces como W indique. Además, usando el manejo de errores, por cada par de M,N, imprima por pantalla la division entera M//N. En caso de haber división por cero, el mensaje de error debe ser \"No se puede dividir por cero\" e imprima el valor de M, y en ese momento se terminara el programa.\n",
    "\n",
    "NOTA1: El mensaje al solicitar las entradas debe ser: \"Ingrese un numero entero \\n\", tal como aparece entre comillas incluyendo la mayúscula inicial, el espacio y el \"\\n\" después de \"entero\".\n",
    "\n",
    "NOTA2: El programa debe mostrar como resultado exclusivamente lo indicado, no debe contener letras ni enunciados adicionales que lo acompañen."
   ]
  },
  {
   "cell_type": "code",
   "execution_count": 2,
   "metadata": {},
   "outputs": [
    {
     "name": "stdout",
     "output_type": "stream",
     "text": [
      "Ingrese un numero entero \n",
      "3\n",
      "Ingrese un numero entero \n",
      "4\n",
      "Ingrese un numero entero \n",
      "2\n",
      "2\n",
      "Ingrese un numero entero \n",
      "4\n",
      "Ingrese un numero entero \n",
      "0\n",
      "No se puede dividir por cero\n",
      "4\n"
     ]
    }
   ],
   "source": [
    "W=int(input(\"Ingrese un numero entero \\n\"))\n",
    "i=0\n",
    "while i<W:\n",
    "    M=int(input(\"Ingrese un numero entero \\n\"))\n",
    "    N=int(input(\"Ingrese un numero entero \\n\"))\n",
    "    try:\n",
    "        i+=1\n",
    "        print(M//N)\n",
    "    except ZeroDivisionError:\n",
    "        print(\"No se puede dividir por cero\")\n",
    "        print(M)\n",
    "        break"
   ]
  },
  {
   "cell_type": "markdown",
   "metadata": {},
   "source": [
    "7.Cree un programa en python 3 que solicite por teclado dos diccionarios M,N con los datos de 2 personas: \"Nombre\", \"Cedula\" y \"Telefono\". Posteriormente, imprima por pantalla la secuencia de datos de la primera persona, luego la secuencia de datos de la segunda persona. En caso de que la persona no haya proporcionado algun dato (La clave no exista), el mensaje de error que se debe mostrar es: \"Dato no proporcionado\"\n",
    "\n",
    "NOTA1: El mensaje al solicitar las entradas debe ser: \"Ingrese un diccionario \\n\", tal como aparece entre comillas incluyendo la mayúscula inicial, el espacio y el \"\\n\" después de \"diccionario\".\n",
    "\n",
    "NOTA2: El programa debe mostrar como resultado exclusivamente lo indicado, no debe contener letras ni enunciados adicionales que lo acompañen."
   ]
  },
  {
   "cell_type": "code",
   "execution_count": 2,
   "metadata": {},
   "outputs": [
    {
     "name": "stdout",
     "output_type": "stream",
     "text": [
      "Ingrese un diccionario \n",
      "{\"Nombre\":\"Juan\",\"Cedula\":98631127,\"Telefono\":6102910}\n",
      "Ingrese un diccionario \n",
      "{\"Nombre\":\"Jose\",\"Cedula\":233,\"Telefono\":6102910}\n",
      "Juan\n",
      "98631127\n",
      "6102910\n",
      "Jose\n",
      "233\n",
      "6102910\n"
     ]
    }
   ],
   "source": [
    "M=eval(input(\"Ingrese un diccionario \\n\"))\n",
    "N=eval(input(\"Ingrese un diccionario \\n\"))\n",
    "lista=[M,N]\n",
    "for i in lista:\n",
    "    try:\n",
    "        print(i[\"Nombre\"])\n",
    "    except KeyError:\n",
    "        print(\"Dato no proporcionado\")\n",
    "    try:\n",
    "        print(i[\"Cedula\"])\n",
    "    except KeyError:\n",
    "        print(\"Dato no proporcionado\")\n",
    "    try:    \n",
    "        print(i[\"Telefono\"])\n",
    "    except KeyError:\n",
    "        print(\"Dato no proporcionado\")\n",
    "    "
   ]
  },
  {
   "cell_type": "markdown",
   "metadata": {},
   "source": [
    "dificil.\n",
    "8.Cree una función en python 3 llamada Suma que reciba dos parametros, correspondientes a dos matrices. La función debe efectuar la suma de dichas matrices e imprimir la matriz resultante. En caso de que las matrices no puedan ser sumadas, el mensaje de error que se debe mostrar es \"No se pueden sumar estas matrices\".\n",
    "\n",
    "NOTA1: La función debe llamarse explicitamente como lo indica el ejercicio.\n",
    "\n",
    "NOTA2: El programa debe mostrar como resultado exclusivamente lo indicado, no debe contener letras ni enunciados adicionales que lo acompañen."
   ]
  },
  {
   "cell_type": "code",
   "execution_count": 18,
   "metadata": {},
   "outputs": [
    {
     "name": "stdout",
     "output_type": "stream",
     "text": [
      "[[5, 13], [10, 37]]\n"
     ]
    }
   ],
   "source": [
    "def Suma(matriz1,matriz2):\n",
    "    if(len(matriz1))>len(matriz2):\n",
    "        try:\n",
    "            suma=matriz1[len(matriz1)-1][0]+matriz2[len(matriz1)-1][0]\n",
    "        except IndexError:\n",
    "            print(\"No se pueden sumar estas matrices\")\n",
    "    elif(len(matriz2))>len(matriz1):\n",
    "        try:\n",
    "            suma=matriz1[len(matriz2)-1][0]+matriz2[len(matriz2)-1][0]\n",
    "        except IndexError:\n",
    "            print(\"No se pueden sumar estas matrices\")\n",
    "    elif(len(matriz2[0]))>len(matriz1[0]):\n",
    "        try:\n",
    "        \n",
    "            suma=matriz1[len(matriz2[0])-1]+matriz2[len(matriz2[0])-1][0]\n",
    "        except IndexError:\n",
    "            print(\"No se pueden sumar estas matrices\")\n",
    "    elif(len(matriz1[0]))>len(matriz2[0]):\n",
    "        try:\n",
    "        \n",
    "            suma=matriz1[len(matriz1[0])-1]+matriz2[len(matriz1[0])-1][0]\n",
    "        except IndexError:\n",
    "            print(\"No se pueden sumar estas matrices\")\n",
    "    else:\n",
    "        final=[]\n",
    "        for j in range(0,len(matriz1)):\n",
    "            lista=[]\n",
    "\n",
    "            for i in range(0,len(matriz1[0])):\n",
    "                sumatoria=0\n",
    "                sumatoria=matriz1[j][i]+matriz2[j][i]\n",
    "                lista.append(sumatoria)\n",
    "            final.append(lista)\n",
    "        print(final)\n",
    "Suma([[2,9],[4,5]],[[3,4],[6,32]])\n",
    "\n",
    "        \n",
    "        \n",
    "    "
   ]
  },
  {
   "cell_type": "markdown",
   "metadata": {},
   "source": [
    "9.Cree una función en python 3 llamada Resta que reciba dos parametros, correspondientes a dos matrices. La función debe efectuar la resta de dichas matrices e imprimir la matriz resultante. En caso de que las matrices no puedan ser sumadas, el mensaje de error que se debe mostrar es \"No se pueden sumar estas matrices\".\n",
    "\n",
    "NOTA1: La función debe llamarse explicitamente como lo indica el ejercicio.\n",
    "\n",
    "NOTA2: El programa debe mostrar como resultado exclusivamente lo indicado, no debe contener letras ni enunciados adicionales que lo acompañen."
   ]
  },
  {
   "cell_type": "code",
   "execution_count": 24,
   "metadata": {},
   "outputs": [
    {
     "name": "stdout",
     "output_type": "stream",
     "text": [
      "[[-1, 5], [-2, -27]]\n"
     ]
    }
   ],
   "source": [
    "def Resta(matriz1,matriz2):\n",
    "    if(len(matriz1))>len(matriz2):\n",
    "        try:\n",
    "            suma=matriz1[len(matriz1)-1][0]+matriz2[len(matriz1)-1][0]\n",
    "        except IndexError:\n",
    "            print(\"No se pueden sumar estas matrices\")\n",
    "    elif(len(matriz2))>len(matriz1):\n",
    "        try:\n",
    "            suma=matriz1[len(matriz2)-1][0]+matriz2[len(matriz2)-1][0]\n",
    "        except IndexError:\n",
    "            print(\"No se pueden sumar estas matrices\")\n",
    "    elif(len(matriz2[0]))>len(matriz1[0]):\n",
    "        try:\n",
    "        \n",
    "            suma=matriz1[len(matriz2[0])-1]+matriz2[len(matriz2[0])-1][0]\n",
    "        except IndexError:\n",
    "            print(\"No se pueden sumar estas matrices\")\n",
    "    elif(len(matriz1[0]))>len(matriz2[0]):\n",
    "        try:\n",
    "        \n",
    "            suma=matriz1[len(matriz1[0])-1]+matriz2[len(matriz1[0])-1][0]\n",
    "        except IndexError:\n",
    "            print(\"No se pueden sumar estas matrices\")\n",
    "    else:\n",
    "        final=[]\n",
    "        for j in range(0,len(matriz1)):\n",
    "            lista=[]\n",
    "\n",
    "            for i in range(0,len(matriz1[0])):\n",
    "                sumatoria=0\n",
    "                sumatoria=matriz1[j][i]-matriz2[j][i]\n",
    "                lista.append(sumatoria)\n",
    "            final.append(lista)\n",
    "        print(final)\n",
    "Resta([[2,9],[4,5]],[[3,4],[6,32]])"
   ]
  },
  {
   "cell_type": "markdown",
   "metadata": {},
   "source": [
    "10.Cree un programa en python 3 que solicite por consola un entero M y una matriz N. Posteriormente eleve cada elemento de la matriz N al entero M. En caso de que algún elemento de N sea un string, mostrar por pantalla el mensaje de error \"No valido\" y en ese lugar poner un 0. Finalmente, imprimir por pantalla la matriz resultante.\n",
    "\n",
    "NOTA1: El mensaje al solicitar las entradas debe ser: \"Ingrese un numero entero \\n\", \"ingrese una matriz \\n\" tal como aparece entre comillas incluyendo la mayúscula inicial, el espacio y el \"\\n\" después de \"entero\",\"Matriz\".\n",
    "\n",
    "NOTA2: El programa debe mostrar como resultado exclusivamente lo indicado, no debe contener letras ni enunciados adicionales que lo acompañen.\n"
   ]
  },
  {
   "cell_type": "code",
   "execution_count": 18,
   "metadata": {},
   "outputs": [
    {
     "name": "stdout",
     "output_type": "stream",
     "text": [
      "Ingrese un numero entero \n",
      "2\n",
      "Ingrese una matriz \n",
      "[[\"hola\",\"hola\",\"a\"],[\"hola\",\"b\",\"hola\"]]\n",
      "No valido\n",
      "No valido\n",
      "No valido\n",
      "No valido\n",
      "No valido\n",
      "No valido\n",
      "[[0, 0, 0], [0, 0, 0]]\n"
     ]
    }
   ],
   "source": [
    "M=int(input(\"Ingrese un numero entero \\n\"))\n",
    "N=eval(input(\"Ingrese una matriz \\n\"))\n",
    "\n",
    "final=[]\n",
    "\n",
    "for i in N:\n",
    "    lista=[]\n",
    "    for j in i:\n",
    "        try:\n",
    "            elemento=j**M\n",
    "            lista.append(elemento)\n",
    "        except TypeError:\n",
    "            print(\"No valido\")\n",
    "            lista.append(0)\n",
    "    final.append(lista)\n",
    "print(final)\n",
    "            \n",
    "            \n",
    "        \n"
   ]
  },
  {
   "cell_type": "code",
   "execution_count": null,
   "metadata": {},
   "outputs": [],
   "source": []
  },
  {
   "cell_type": "code",
   "execution_count": null,
   "metadata": {},
   "outputs": [],
   "source": []
  }
 ],
 "metadata": {
  "kernelspec": {
   "display_name": "Python 3",
   "language": "python",
   "name": "python3"
  },
  "language_info": {
   "codemirror_mode": {
    "name": "ipython",
    "version": 3
   },
   "file_extension": ".py",
   "mimetype": "text/x-python",
   "name": "python",
   "nbconvert_exporter": "python",
   "pygments_lexer": "ipython3",
   "version": "3.6.6"
  }
 },
 "nbformat": 4,
 "nbformat_minor": 2
}
